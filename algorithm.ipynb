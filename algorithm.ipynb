{
 "cells": [
  {
   "cell_type": "code",
   "execution_count": 1,
   "metadata": {},
   "outputs": [],
   "source": [
    "from zarr_rechunker import zarr_rechunker\n",
    "import numpy as np"
   ]
  },
  {
   "cell_type": "code",
   "execution_count": 12,
   "metadata": {},
   "outputs": [
    {
     "ename": "ValueError",
     "evalue": "Source chunk memory (12) exceeds max_mem (2)",
     "output_type": "error",
     "traceback": [
      "\u001b[0;31m---------------------------------------------------------------------------\u001b[0m",
      "\u001b[0;31mValueError\u001b[0m                                Traceback (most recent call last)",
      "\u001b[0;32m<ipython-input-12-a1bbe9f7d84d>\u001b[0m in \u001b[0;36m<module>\u001b[0;34m\u001b[0m\n\u001b[1;32m      6\u001b[0m \u001b[0mitemsize\u001b[0m \u001b[0;34m=\u001b[0m \u001b[0;36m4\u001b[0m\u001b[0;34m\u001b[0m\u001b[0;34m\u001b[0m\u001b[0m\n\u001b[1;32m      7\u001b[0m \u001b[0;34m\u001b[0m\u001b[0m\n\u001b[0;32m----> 8\u001b[0;31m \u001b[0mrc\u001b[0m\u001b[0;34m,\u001b[0m \u001b[0mic\u001b[0m\u001b[0;34m,\u001b[0m \u001b[0mwc\u001b[0m \u001b[0;34m=\u001b[0m \u001b[0mzarr_rechunker\u001b[0m\u001b[0;34m.\u001b[0m\u001b[0mrechunking_plan\u001b[0m\u001b[0;34m(\u001b[0m\u001b[0mshape\u001b[0m\u001b[0;34m,\u001b[0m \u001b[0msource_chunks\u001b[0m\u001b[0;34m,\u001b[0m \u001b[0mtarget_chunks\u001b[0m\u001b[0;34m,\u001b[0m \u001b[0mitemsize\u001b[0m\u001b[0;34m,\u001b[0m \u001b[0mmax_mem\u001b[0m\u001b[0;34m)\u001b[0m\u001b[0;34m\u001b[0m\u001b[0;34m\u001b[0m\u001b[0m\n\u001b[0m\u001b[1;32m      9\u001b[0m \u001b[0mprint\u001b[0m\u001b[0;34m(\u001b[0m\u001b[0mrc\u001b[0m\u001b[0;34m,\u001b[0m \u001b[0mic\u001b[0m\u001b[0;34m,\u001b[0m \u001b[0mwc\u001b[0m\u001b[0;34m)\u001b[0m\u001b[0;34m\u001b[0m\u001b[0;34m\u001b[0m\u001b[0m\n\u001b[1;32m     10\u001b[0m \u001b[0mprint\u001b[0m\u001b[0;34m(\u001b[0m\u001b[0mitemsize\u001b[0m \u001b[0;34m*\u001b[0m \u001b[0mnp\u001b[0m\u001b[0;34m.\u001b[0m\u001b[0mprod\u001b[0m\u001b[0;34m(\u001b[0m\u001b[0mrc\u001b[0m\u001b[0;34m)\u001b[0m \u001b[0;34m/\u001b[0m \u001b[0mmax_mem\u001b[0m\u001b[0;34m)\u001b[0m\u001b[0;34m\u001b[0m\u001b[0;34m\u001b[0m\u001b[0m\n",
      "\u001b[0;32m~/Code/zarr_rechunker/zarr_rechunker/zarr_rechunker.py\u001b[0m in \u001b[0;36mrechunking_plan\u001b[0;34m(shape, source_chunks, target_chunks, itemsize, max_mem, consolidate_reads, consolidate_writes)\u001b[0m\n\u001b[1;32m    112\u001b[0m     \u001b[0mtarget_chunk_mem\u001b[0m \u001b[0;34m=\u001b[0m \u001b[0mitemsize\u001b[0m \u001b[0;34m*\u001b[0m \u001b[0mprod\u001b[0m\u001b[0;34m(\u001b[0m\u001b[0mtarget_chunks\u001b[0m\u001b[0;34m)\u001b[0m\u001b[0;34m\u001b[0m\u001b[0;34m\u001b[0m\u001b[0m\n\u001b[1;32m    113\u001b[0m     \u001b[0;32mif\u001b[0m \u001b[0msource_chunk_mem\u001b[0m \u001b[0;34m>\u001b[0m \u001b[0mmax_mem\u001b[0m\u001b[0;34m:\u001b[0m\u001b[0;34m\u001b[0m\u001b[0;34m\u001b[0m\u001b[0m\n\u001b[0;32m--> 114\u001b[0;31m         \u001b[0;32mraise\u001b[0m \u001b[0mValueError\u001b[0m\u001b[0;34m(\u001b[0m\u001b[0;34mf\"Source chunk memory ({source_chunk_mem}) exceeds max_mem ({max_mem})\"\u001b[0m\u001b[0;34m)\u001b[0m\u001b[0;34m\u001b[0m\u001b[0;34m\u001b[0m\u001b[0m\n\u001b[0m\u001b[1;32m    115\u001b[0m     \u001b[0;32mif\u001b[0m \u001b[0mtarget_chunk_mem\u001b[0m \u001b[0;34m>\u001b[0m \u001b[0mmax_mem\u001b[0m\u001b[0;34m:\u001b[0m\u001b[0;34m\u001b[0m\u001b[0;34m\u001b[0m\u001b[0m\n\u001b[1;32m    116\u001b[0m         \u001b[0;32mraise\u001b[0m \u001b[0mValueError\u001b[0m\u001b[0;34m(\u001b[0m\u001b[0;34mf\"Target chunk memory ({target_chunk_mem}) exceeds max_mem ({max_mem})\"\u001b[0m\u001b[0;34m)\u001b[0m\u001b[0;34m\u001b[0m\u001b[0;34m\u001b[0m\u001b[0m\n",
      "\u001b[0;31mValueError\u001b[0m: Source chunk memory (12) exceeds max_mem (2)"
     ]
    }
   ],
   "source": [
    "max_mem = 2\n",
    "\n",
    "shape = (16,)\n",
    "source_chunks = (3,)\n",
    "target_chunks = (7,)\n",
    "itemsize = 4\n",
    "\n",
    "rc, ic, wc = zarr_rechunker.rechunking_plan(shape, source_chunks, target_chunks, itemsize, max_mem)\n",
    "print(rc, ic, wc)\n",
    "print(itemsize * np.prod(rc) / max_mem)\n",
    "print(itemsize * np.prod(ic) / max_mem)\n",
    "print(itemsize * np.prod(wc) / max_mem)"
   ]
  },
  {
   "cell_type": "code",
   "execution_count": 10,
   "metadata": {},
   "outputs": [
    {
     "name": "stdout",
     "output_type": "stream",
     "text": [
      "  axis 0, 1 -> 8\n",
      "  axis 1, 1 -> 8\n",
      "(8, 8) (8, 1) (8, 8)\n",
      "1.0\n",
      "0.125\n",
      "1.0\n"
     ]
    }
   ],
   "source": [
    "max_mem = 256\n",
    "\n",
    "shape = (8, 8)\n",
    "source_chunks = (1, 8)\n",
    "target_chunks = (8, 1)\n",
    "itemsize = 4\n",
    "\n",
    "rc, ic, wc = zarr_rechunker.rechunking_plan(shape, source_chunks, target_chunks, itemsize, max_mem)\n",
    "print(rc, ic, wc)\n",
    "print(itemsize * np.prod(rc) / max_mem)\n",
    "print(itemsize * np.prod(ic) / max_mem)\n",
    "print(itemsize * np.prod(wc) / max_mem)"
   ]
  },
  {
   "cell_type": "code",
   "execution_count": 5,
   "metadata": {},
   "outputs": [
    {
     "data": {
      "text/plain": [
       "32"
      ]
     },
     "execution_count": 5,
     "metadata": {},
     "output_type": "execute_result"
    }
   ],
   "source": [
    "8*4"
   ]
  },
  {
   "cell_type": "code",
   "execution_count": 2,
   "metadata": {},
   "outputs": [
    {
     "name": "stdout",
     "output_type": "stream",
     "text": [
      "  axis 1, 7 -> 11\n",
      "  axis 0, 1 -> 14\n",
      "  axis 3, 360 -> 3600\n",
      "  axis 2, 90 -> 180\n",
      "(14, 11, 1800, 3600) (2, 11, 90, 360) (100, 11, 180, 3600)\n",
      "0.99792\n",
      "0.0007128\n",
      "0.7128\n"
     ]
    }
   ],
   "source": [
    "max_mem = 4_000_000_000\n",
    "\n",
    "source_shape = (1000, 50, 1800, 3600)\n",
    "source_chunks = (1, 7, 1800, 3600)\n",
    "target_shape = (1000, 50, 1800, 3600)\n",
    "target_chunks = (100, 11, 90, 360)\n",
    "itemsize = 4\n",
    "\n",
    "rc, ic, wc = zarr_rechunker.intermediate_chunks(source_shape, source_chunks,\n",
    "                                   target_shape, target_chunks,\n",
    "                                   itemsize, max_mem)\n",
    "print(rc, ic, wc)\n",
    "print(itemsize * np.prod(rc) / max_mem)\n",
    "print(itemsize * np.prod(ic) / max_mem)\n",
    "print(itemsize * np.prod(wc) / max_mem)"
   ]
  },
  {
   "cell_type": "code",
   "execution_count": 17,
   "metadata": {},
   "outputs": [
    {
     "name": "stdout",
     "output_type": "stream",
     "text": [
      "0.99792\n",
      "0.0007128\n",
      "0.7128\n"
     ]
    }
   ],
   "source": []
  },
  {
   "cell_type": "code",
   "execution_count": null,
   "metadata": {},
   "outputs": [],
   "source": []
  },
  {
   "cell_type": "code",
   "execution_count": 16,
   "metadata": {},
   "outputs": [],
   "source": [
    "import math\n",
    "from math import prod\n",
    "from functools import reduce \n",
    "\n",
    "import numpy as np\n",
    "import zarr\n",
    "import dask.array as dsa\n",
    "\n",
    "from typing import Callable, Iterable, Union, Optional, List, Tuple\n",
    "\n",
    "\n",
    "def consolidate_chunks(shape: Iterable[int],\n",
    "                       chunks: Iterable[int],\n",
    "                       itemsize: Iterable[int],\n",
    "                       max_mem: int,\n",
    "                       axes: Optional[Iterable[int]]=None,\n",
    "                       chunk_limits: Optional[Iterable[int]]=None):\n",
    "    \"\"\"\n",
    "    Consolidate input chunks up to a certain memory limit. Consolidation starts on the\n",
    "    highest axis and proceeds towards axis 0.\n",
    "    \n",
    "    Parameters\n",
    "    ----------\n",
    "    shape : Tuple\n",
    "        Array shape\n",
    "    chunks : Tuple\n",
    "        Original chunk shape (must be in form (5, 10, 20), no irregular chunks)\n",
    "    max_mem : Int\n",
    "        Maximum permissible chunk memory size, measured in units of itemsize\n",
    "    axes : Iterable, optional\n",
    "        List of axes on which to consolidate. Otherwise all.\n",
    "    chunk_limits : Tuple, optional\n",
    "        Maximum size of each chunk along each axis. \n",
    "    \n",
    "    Returns\n",
    "    -------\n",
    "    new_chunks : tuple\n",
    "        The new chunks, size guaranteed to be <= mam_mem\n",
    "    \"\"\"\n",
    "    \n",
    "    if axes is None:\n",
    "        axes = np.arange(len(shape))\n",
    "    if chunk_limits is None:\n",
    "        chunk_limits = shape\n",
    "    \n",
    "    chunk_mem = itemsize * prod(chunks)\n",
    "    if chunk_mem > max_mem:\n",
    "        raise ValueError(f\"chunk_mem {chunk_mem} > mam_mem {max_mem}\")\n",
    "    headroom = max_mem // chunk_mem\n",
    "\n",
    "    new_chunks = list(chunks)\n",
    "    \n",
    "    for n_axis in sorted(axes)[::-1]:\n",
    "\n",
    "        c_new= min(chunks[n_axis] * headroom, shape[n_axis], chunk_limits[n_axis])\n",
    "        print(f'  axis {n_axis}, {chunks[n_axis]} -> {c_new}')\n",
    "        new_chunks[n_axis] = c_new\n",
    "        chunk_mem = itemsize * prod(new_chunks)\n",
    "        headroom = max_mem // chunk_mem\n",
    "        \n",
    "        if headroom == 1:\n",
    "            break\n",
    "    \n",
    "    return tuple(new_chunks)\n"
   ]
  },
  {
   "cell_type": "code",
   "execution_count": null,
   "metadata": {},
   "outputs": [],
   "source": []
  },
  {
   "cell_type": "code",
   "execution_count": 39,
   "metadata": {},
   "outputs": [
    {
     "name": "stdout",
     "output_type": "stream",
     "text": [
      "  axis 1, 2 -> 8\n",
      "  axis 0, 1 -> 4\n",
      "(4, 8)\n"
     ]
    }
   ],
   "source": [
    "itemsize = 8\n",
    "shape = (8, 8)\n",
    "chunks = (1, 2)\n",
    "\n",
    "\n",
    "max_mem = 256\n",
    "new_chunks = consolidate_chunks(shape, chunks, itemsize, max_mem)\n",
    "print(new_chunks)\n"
   ]
  },
  {
   "cell_type": "code",
   "execution_count": null,
   "metadata": {},
   "outputs": [],
   "source": [
    "print(chunks)\n",
    "new_chunks = consolidate_chunks(shape, chunks, itemsize, max_mem)\n",
    "print(new_chunks)\n",
    "print(itemsize * prod(new_chunks))"
   ]
  },
  {
   "cell_type": "code",
   "execution_count": 1,
   "metadata": {},
   "outputs": [],
   "source": [
    "from hypothesis import given\n"
   ]
  },
  {
   "cell_type": "code",
   "execution_count": 44,
   "metadata": {},
   "outputs": [
    {
     "name": "stdout",
     "output_type": "stream",
     "text": [
      "(1, 5, 1800, 3600)\n",
      "  axis 3, 3600 -> 3600\n",
      "  axis 2, 1800 -> 1800\n",
      "  axis 1, 5 -> 50\n",
      "  axis 0, 1 -> 2\n",
      "(2, 50, 1800, 3600)\n",
      "2592000000\n"
     ]
    }
   ],
   "source": [
    "max_mem = 3_000_000_000\n",
    "\n",
    "shape = (1000, 50, 1800, 3600)\n",
    "chunks = (1, 5, 1800, 3600)\n",
    "axes = (1)\n",
    "itemsize = 4\n",
    "\n",
    "print(chunks)\n",
    "new_chunks = consolidate_chunks(shape, chunks, itemsize, max_mem)\n",
    "print(new_chunks)\n",
    "print(itemsize * prod(new_chunks))"
   ]
  },
  {
   "cell_type": "code",
   "execution_count": 9,
   "metadata": {},
   "outputs": [],
   "source": [
    "def calculate_intermediate_chunks(source_shape: Iterable[int],\n",
    "                                  source_chunks: Iterable[int],\n",
    "                                  target_shape: Iterable[int],\n",
    "                                  target_chunks: Iterable[int],\n",
    "                                  dtype: np.dtype,\n",
    "                                  max_mem: int) -> Tuple[Tuple[int]]:\n",
    "    \"\"\"\n",
    "    Calculate the chunk shape for an intermediate dataset.\n",
    "    \n",
    "    Parameters\n",
    "    ----------\n",
    "    source_shape: shape of the source data\n",
    "    source_chunks: shape of the source chunks\n",
    "    target_shape: shape of the target data (must equal source_shape)\n",
    "    target_chunks: shape of the target chunks\n",
    "    dtype: input datatype\n",
    "    max_mem: maximum amount of data (nbytes) that can be held in memory at once\n",
    "    \"\"\"\n",
    "    \n",
    "    assert source_shape == target_shape\n",
    "    itemsize = dtype.itemsize\n",
    "    source_chunk_mem = itemsize * prod(source_chunks)\n",
    "    target_chunk_mem = itemsize * prod(target_chunks)\n",
    "    assert source_chunk_mem <= max_mem\n",
    "    assert target_chunk_mem <= max_mem\n",
    "\n",
    "    # Greatest common denominator chunks.\n",
    "    # These are the smallest possible chunks which evenly fit into\n",
    "    # both the source and target.\n",
    "    # Example:\n",
    "    #   source_chunks: (20, 5)\n",
    "    #   target_chunks: (4, 25)\n",
    "    #.  gcd_chunks:    (4, 5)\n",
    "    # We don't need to check their memory usage: they are guaranteed to be smaller\n",
    "    # than both source and target chunks.\n",
    "    gcd_chunks = [math.gcd(c_source, c_target) for\n",
    "                  c_source, c_target in zip(source_chunks, target_chunks)]\n",
    "\n",
    "    # first guess for the the intermdiate chunks is gcd chunks\n",
    "    temp_chunks = gcd_chunks\n",
    "    \n",
    "    # But maybe we can make  temp_chunks larger. That would be good because\n",
    "    # things will go faster. Now we see how many source chunks can be combined \n",
    "    # before we exceed the memory limit.\n",
    "\n",
    "    # input_chunks is how we will read the source data. input_chunks can potentially\n",
    "    # be larger than source_chunks\n",
    "    input_chunks = list(source_chunks)\n",
    "    chunk_mem = itemsize * prod(input_chunks)\n",
    "    # this is a key parameter; it tells us how much we can increase the chunk size\n",
    "    # beyond the greatest common denominator\n",
    "    headroom = max_mem // chunk_mem\n",
    "\n",
    "    n = 0\n",
    "    while headroom > 1:\n",
    "        n+=1\n",
    "        print(f'ITER {n}  chunk_mem {chunk_mem}, headroom {headroom}')\n",
    "\n",
    "        # start aggregating chunks\n",
    "        possible_aggregation_axes = []\n",
    "\n",
    "        # figure out which axes we might aggregate over\n",
    "        print(\"Checking axes\")\n",
    "        for n_axis, (c_temp, c_target) in enumerate(zip(temp_chunks, target_chunks)):\n",
    "            print(f\"  axis {n_axis}, ({c_temp}, {c_target})\")\n",
    "            if c_temp < c_target:\n",
    "                print(f'   adding axis {n_axis}')\n",
    "                possible_aggregation_axes.append(n_axis)\n",
    "\n",
    "            \n",
    "        # starting from last axis, aggregate into larger chunks\n",
    "        print(\"Aggregating chunks\")\n",
    "        for n_axis in possible_aggregation_axes[::-1]:\n",
    "            c_temp = min(temp_chunks[n_axis] * headroom, source_shape[n_axis], target_chunks[n_axis])\n",
    "            print(f'  axis {n_axis}, {temp_chunks[n_axis]} -> {c_temp}')\n",
    "            temp_chunks[n_axis] = c_temp\n",
    "            input_chunks[n_axis] = c_temp\n",
    "            chunk_mem = itemsize * prod(input_chunks)\n",
    "            headroom = max_mem // chunk_mem\n",
    "            \n",
    "        print(f'Final chunk_mem {chunk_mem}, headroom {headroom}')\n",
    "\n",
    "        # check to stop endless loop (in case of large max_mem)\n",
    "        if tuple(temp_chunks) == source_chunks:\n",
    "            break\n",
    "\n",
    "    return tuple(input_chunks), tuple(temp_chunks)\n",
    "    "
   ]
  },
  {
   "cell_type": "code",
   "execution_count": 48,
   "metadata": {},
   "outputs": [
    {
     "data": {
      "text/plain": [
       "[0, 1]"
      ]
     },
     "execution_count": 48,
     "metadata": {},
     "output_type": "execute_result"
    }
   ],
   "source": [
    "[a for a in range(5) if (a < 2)]"
   ]
  },
  {
   "cell_type": "code",
   "execution_count": 52,
   "metadata": {},
   "outputs": [
    {
     "data": {
      "text/plain": [
       "True"
      ]
     },
     "execution_count": 52,
     "metadata": {},
     "output_type": "execute_result"
    }
   ],
   "source": [
    "5 <= 7 < 10"
   ]
  },
  {
   "cell_type": "code",
   "execution_count": 53,
   "metadata": {},
   "outputs": [
    {
     "data": {
      "text/plain": [
       "[1, 2, 3]"
      ]
     },
     "execution_count": 53,
     "metadata": {},
     "output_type": "execute_result"
    }
   ],
   "source": [
    "list([1, 2, 3])"
   ]
  },
  {
   "cell_type": "code",
   "execution_count": 7,
   "metadata": {},
   "outputs": [
    {
     "name": "stdout",
     "output_type": "stream",
     "text": [
      "ITER 1  chunk_mem 129600000, headroom 30\n",
      "Checking axes\n",
      "  axis 0, (1, 100)\n",
      "   adding axis 0\n",
      "  axis 1, (5, 10)\n",
      "   adding axis 1\n",
      "  axis 2, (90, 90)\n",
      "  axis 3, (360, 360)\n",
      "Aggregating chunks\n",
      "  axis 1, 5 -> 10\n",
      "  axis 0, 1 -> 15\n",
      "Final chunk_mem 3888000000, headroom 1\n"
     ]
    }
   ],
   "source": [
    "max_mem = 4_000_000_000\n",
    "\n",
    "source_shape = (1000, 50, 1800, 3600)\n",
    "source_chunks = (1, 5, 1800, 3600)\n",
    "target_shape = (1000, 50, 1800, 3600)\n",
    "target_chunks = (100, 10, 90, 360)\n",
    "dtype = np.dtype('f4')\n",
    "\n",
    "input_chunks, temp_chunks = calculate_intermediate_chunks(\n",
    "                                source_shape, source_chunks,\n",
    "                                target_shape, target_chunks,\n",
    "                                dtype, max_mem)\n",
    "\n",
    "\n",
    "assert input_chunks == (15, 10, 1800, 3600)\n",
    "assert temp_chunks == (15, 10, 90, 360)"
   ]
  },
  {
   "cell_type": "code",
   "execution_count": 8,
   "metadata": {},
   "outputs": [
    {
     "data": {
      "text/html": [
       "<table>\n",
       "<tr>\n",
       "<td>\n",
       "<table>\n",
       "  <thead>\n",
       "    <tr><td> </td><th> Array </th><th> Chunk </th></tr>\n",
       "  </thead>\n",
       "  <tbody>\n",
       "    <tr><th> Bytes </th><td> 1.30 TB </td> <td> 3.89 GB </td></tr>\n",
       "    <tr><th> Shape </th><td> (1000, 50, 1800, 3600) </td> <td> (15, 10, 1800, 3600) </td></tr>\n",
       "    <tr><th> Count </th><td> 336 Tasks </td><td> 335 Chunks </td></tr>\n",
       "    <tr><th> Type </th><td> float32 </td><td> numpy.ndarray </td></tr>\n",
       "  </tbody>\n",
       "</table>\n",
       "</td>\n",
       "<td>\n",
       "<svg width=\"411\" height=\"125\" style=\"stroke:rgb(0,0,0);stroke-width:1\" >\n",
       "\n",
       "  <!-- Horizontal lines -->\n",
       "  <line x1=\"0\" y1=\"0\" x2=\"43\" y2=\"0\" style=\"stroke-width:2\" />\n",
       "  <line x1=\"0\" y1=\"25\" x2=\"43\" y2=\"25\" style=\"stroke-width:2\" />\n",
       "\n",
       "  <!-- Vertical lines -->\n",
       "  <line x1=\"0\" y1=\"0\" x2=\"0\" y2=\"25\" style=\"stroke-width:2\" />\n",
       "  <line x1=\"0\" y1=\"0\" x2=\"0\" y2=\"25\" />\n",
       "  <line x1=\"1\" y1=\"0\" x2=\"1\" y2=\"25\" />\n",
       "  <line x1=\"1\" y1=\"0\" x2=\"1\" y2=\"25\" />\n",
       "  <line x1=\"2\" y1=\"0\" x2=\"2\" y2=\"25\" />\n",
       "  <line x1=\"3\" y1=\"0\" x2=\"3\" y2=\"25\" />\n",
       "  <line x1=\"3\" y1=\"0\" x2=\"3\" y2=\"25\" />\n",
       "  <line x1=\"4\" y1=\"0\" x2=\"4\" y2=\"25\" />\n",
       "  <line x1=\"5\" y1=\"0\" x2=\"5\" y2=\"25\" />\n",
       "  <line x1=\"5\" y1=\"0\" x2=\"5\" y2=\"25\" />\n",
       "  <line x1=\"6\" y1=\"0\" x2=\"6\" y2=\"25\" />\n",
       "  <line x1=\"7\" y1=\"0\" x2=\"7\" y2=\"25\" />\n",
       "  <line x1=\"7\" y1=\"0\" x2=\"7\" y2=\"25\" />\n",
       "  <line x1=\"8\" y1=\"0\" x2=\"8\" y2=\"25\" />\n",
       "  <line x1=\"9\" y1=\"0\" x2=\"9\" y2=\"25\" />\n",
       "  <line x1=\"9\" y1=\"0\" x2=\"9\" y2=\"25\" />\n",
       "  <line x1=\"10\" y1=\"0\" x2=\"10\" y2=\"25\" />\n",
       "  <line x1=\"11\" y1=\"0\" x2=\"11\" y2=\"25\" />\n",
       "  <line x1=\"11\" y1=\"0\" x2=\"11\" y2=\"25\" />\n",
       "  <line x1=\"12\" y1=\"0\" x2=\"12\" y2=\"25\" />\n",
       "  <line x1=\"12\" y1=\"0\" x2=\"12\" y2=\"25\" />\n",
       "  <line x1=\"13\" y1=\"0\" x2=\"13\" y2=\"25\" />\n",
       "  <line x1=\"14\" y1=\"0\" x2=\"14\" y2=\"25\" />\n",
       "  <line x1=\"14\" y1=\"0\" x2=\"14\" y2=\"25\" />\n",
       "  <line x1=\"15\" y1=\"0\" x2=\"15\" y2=\"25\" />\n",
       "  <line x1=\"16\" y1=\"0\" x2=\"16\" y2=\"25\" />\n",
       "  <line x1=\"16\" y1=\"0\" x2=\"16\" y2=\"25\" />\n",
       "  <line x1=\"17\" y1=\"0\" x2=\"17\" y2=\"25\" />\n",
       "  <line x1=\"18\" y1=\"0\" x2=\"18\" y2=\"25\" />\n",
       "  <line x1=\"18\" y1=\"0\" x2=\"18\" y2=\"25\" />\n",
       "  <line x1=\"19\" y1=\"0\" x2=\"19\" y2=\"25\" />\n",
       "  <line x1=\"20\" y1=\"0\" x2=\"20\" y2=\"25\" />\n",
       "  <line x1=\"20\" y1=\"0\" x2=\"20\" y2=\"25\" />\n",
       "  <line x1=\"21\" y1=\"0\" x2=\"21\" y2=\"25\" />\n",
       "  <line x1=\"22\" y1=\"0\" x2=\"22\" y2=\"25\" />\n",
       "  <line x1=\"22\" y1=\"0\" x2=\"22\" y2=\"25\" />\n",
       "  <line x1=\"23\" y1=\"0\" x2=\"23\" y2=\"25\" />\n",
       "  <line x1=\"24\" y1=\"0\" x2=\"24\" y2=\"25\" />\n",
       "  <line x1=\"24\" y1=\"0\" x2=\"24\" y2=\"25\" />\n",
       "  <line x1=\"25\" y1=\"0\" x2=\"25\" y2=\"25\" />\n",
       "  <line x1=\"25\" y1=\"0\" x2=\"25\" y2=\"25\" />\n",
       "  <line x1=\"26\" y1=\"0\" x2=\"26\" y2=\"25\" />\n",
       "  <line x1=\"27\" y1=\"0\" x2=\"27\" y2=\"25\" />\n",
       "  <line x1=\"27\" y1=\"0\" x2=\"27\" y2=\"25\" />\n",
       "  <line x1=\"28\" y1=\"0\" x2=\"28\" y2=\"25\" />\n",
       "  <line x1=\"29\" y1=\"0\" x2=\"29\" y2=\"25\" />\n",
       "  <line x1=\"29\" y1=\"0\" x2=\"29\" y2=\"25\" />\n",
       "  <line x1=\"30\" y1=\"0\" x2=\"30\" y2=\"25\" />\n",
       "  <line x1=\"31\" y1=\"0\" x2=\"31\" y2=\"25\" />\n",
       "  <line x1=\"31\" y1=\"0\" x2=\"31\" y2=\"25\" />\n",
       "  <line x1=\"32\" y1=\"0\" x2=\"32\" y2=\"25\" />\n",
       "  <line x1=\"33\" y1=\"0\" x2=\"33\" y2=\"25\" />\n",
       "  <line x1=\"33\" y1=\"0\" x2=\"33\" y2=\"25\" />\n",
       "  <line x1=\"34\" y1=\"0\" x2=\"34\" y2=\"25\" />\n",
       "  <line x1=\"35\" y1=\"0\" x2=\"35\" y2=\"25\" />\n",
       "  <line x1=\"35\" y1=\"0\" x2=\"35\" y2=\"25\" />\n",
       "  <line x1=\"36\" y1=\"0\" x2=\"36\" y2=\"25\" />\n",
       "  <line x1=\"37\" y1=\"0\" x2=\"37\" y2=\"25\" />\n",
       "  <line x1=\"37\" y1=\"0\" x2=\"37\" y2=\"25\" />\n",
       "  <line x1=\"38\" y1=\"0\" x2=\"38\" y2=\"25\" />\n",
       "  <line x1=\"38\" y1=\"0\" x2=\"38\" y2=\"25\" />\n",
       "  <line x1=\"39\" y1=\"0\" x2=\"39\" y2=\"25\" />\n",
       "  <line x1=\"40\" y1=\"0\" x2=\"40\" y2=\"25\" />\n",
       "  <line x1=\"40\" y1=\"0\" x2=\"40\" y2=\"25\" />\n",
       "  <line x1=\"41\" y1=\"0\" x2=\"41\" y2=\"25\" />\n",
       "  <line x1=\"42\" y1=\"0\" x2=\"42\" y2=\"25\" />\n",
       "  <line x1=\"42\" y1=\"0\" x2=\"42\" y2=\"25\" />\n",
       "  <line x1=\"43\" y1=\"0\" x2=\"43\" y2=\"25\" style=\"stroke-width:2\" />\n",
       "\n",
       "  <!-- Colored Rectangle -->\n",
       "  <polygon points=\"0.000000,0.000000 43.280851,0.000000 43.280851,25.412617 0.000000,25.412617\" style=\"fill:#ECB172A0;stroke-width:0\"/>\n",
       "\n",
       "  <!-- Text -->\n",
       "  <text x=\"21.640426\" y=\"45.412617\" font-size=\"1.0rem\" font-weight=\"100\" text-anchor=\"middle\" >1000</text>\n",
       "  <text x=\"63.280851\" y=\"12.706308\" font-size=\"1.0rem\" font-weight=\"100\" text-anchor=\"middle\" transform=\"rotate(0,63.280851,12.706308)\">1</text>\n",
       "\n",
       "\n",
       "  <!-- Horizontal lines -->\n",
       "  <line x1=\"113\" y1=\"0\" x2=\"128\" y2=\"15\" style=\"stroke-width:2\" />\n",
       "  <line x1=\"113\" y1=\"60\" x2=\"128\" y2=\"75\" style=\"stroke-width:2\" />\n",
       "\n",
       "  <!-- Vertical lines -->\n",
       "  <line x1=\"113\" y1=\"0\" x2=\"113\" y2=\"60\" style=\"stroke-width:2\" />\n",
       "  <line x1=\"116\" y1=\"3\" x2=\"116\" y2=\"63\" />\n",
       "  <line x1=\"119\" y1=\"6\" x2=\"119\" y2=\"66\" />\n",
       "  <line x1=\"122\" y1=\"9\" x2=\"122\" y2=\"69\" />\n",
       "  <line x1=\"125\" y1=\"12\" x2=\"125\" y2=\"72\" />\n",
       "  <line x1=\"128\" y1=\"15\" x2=\"128\" y2=\"75\" style=\"stroke-width:2\" />\n",
       "\n",
       "  <!-- Colored Rectangle -->\n",
       "  <polygon points=\"113.000000,0.000000 128.914139,15.914139 128.914139,75.914139 113.000000,60.000000\" style=\"fill:#ECB172A0;stroke-width:0\"/>\n",
       "\n",
       "  <!-- Horizontal lines -->\n",
       "  <line x1=\"113\" y1=\"0\" x2=\"233\" y2=\"0\" style=\"stroke-width:2\" />\n",
       "  <line x1=\"116\" y1=\"3\" x2=\"236\" y2=\"3\" />\n",
       "  <line x1=\"119\" y1=\"6\" x2=\"239\" y2=\"6\" />\n",
       "  <line x1=\"122\" y1=\"9\" x2=\"242\" y2=\"9\" />\n",
       "  <line x1=\"125\" y1=\"12\" x2=\"245\" y2=\"12\" />\n",
       "  <line x1=\"128\" y1=\"15\" x2=\"248\" y2=\"15\" style=\"stroke-width:2\" />\n",
       "\n",
       "  <!-- Vertical lines -->\n",
       "  <line x1=\"113\" y1=\"0\" x2=\"128\" y2=\"15\" style=\"stroke-width:2\" />\n",
       "  <line x1=\"233\" y1=\"0\" x2=\"248\" y2=\"15\" style=\"stroke-width:2\" />\n",
       "\n",
       "  <!-- Colored Rectangle -->\n",
       "  <polygon points=\"113.000000,0.000000 233.000000,0.000000 248.914139,15.914139 128.914139,15.914139\" style=\"fill:#ECB172A0;stroke-width:0\"/>\n",
       "\n",
       "  <!-- Horizontal lines -->\n",
       "  <line x1=\"128\" y1=\"15\" x2=\"248\" y2=\"15\" style=\"stroke-width:2\" />\n",
       "  <line x1=\"128\" y1=\"75\" x2=\"248\" y2=\"75\" style=\"stroke-width:2\" />\n",
       "\n",
       "  <!-- Vertical lines -->\n",
       "  <line x1=\"128\" y1=\"15\" x2=\"128\" y2=\"75\" style=\"stroke-width:2\" />\n",
       "  <line x1=\"248\" y1=\"15\" x2=\"248\" y2=\"75\" style=\"stroke-width:2\" />\n",
       "\n",
       "  <!-- Colored Rectangle -->\n",
       "  <polygon points=\"128.914139,15.914139 248.914139,15.914139 248.914139,75.914139 128.914139,75.914139\" style=\"fill:#ECB172A0;stroke-width:0\"/>\n",
       "\n",
       "  <!-- Text -->\n",
       "  <text x=\"188.914139\" y=\"95.914139\" font-size=\"1.0rem\" font-weight=\"100\" text-anchor=\"middle\" >3600</text>\n",
       "  <text x=\"268.914139\" y=\"45.914139\" font-size=\"1.0rem\" font-weight=\"100\" text-anchor=\"middle\" transform=\"rotate(-90,268.914139,45.914139)\">1800</text>\n",
       "  <text x=\"110.957069\" y=\"87.957069\" font-size=\"1.0rem\" font-weight=\"100\" text-anchor=\"middle\" transform=\"rotate(45,110.957069,87.957069)\">50</text>\n",
       "</svg>\n",
       "</td>\n",
       "</tr>\n",
       "</table>"
      ],
      "text/plain": [
       "dask.array<from-zarr, shape=(1000, 50, 1800, 3600), dtype=float32, chunksize=(15, 10, 1800, 3600), chunktype=numpy.ndarray>"
      ]
     },
     "execution_count": 8,
     "metadata": {},
     "output_type": "execute_result"
    }
   ],
   "source": [
    "store_source = {}\n",
    "a_source = zarr.zeros(source_shape, chunks=source_chunks,\n",
    "                dtype=dtype, store=store_source)\n",
    "d_source = dsa.from_zarr(a_source, chunks=input_chunks)\n",
    "d_source"
   ]
  },
  {
   "cell_type": "code",
   "execution_count": 4,
   "metadata": {},
   "outputs": [
    {
     "data": {
      "text/plain": [
       "(15, 10, 90, 360)"
      ]
     },
     "execution_count": 4,
     "metadata": {},
     "output_type": "execute_result"
    }
   ],
   "source": [
    "store_temp = {}\n",
    "a_temp = zarr.create(source_shape, chunks=temp_chunks, dtype=dtype, store=store_temp)\n",
    "a_temp.chunks"
   ]
  },
  {
   "cell_type": "code",
   "execution_count": 5,
   "metadata": {},
   "outputs": [
    {
     "data": {
      "text/html": [
       "<table>\n",
       "<tr>\n",
       "<td>\n",
       "<table>\n",
       "  <thead>\n",
       "    <tr><td> </td><th> Array </th><th> Chunk </th></tr>\n",
       "  </thead>\n",
       "  <tbody>\n",
       "    <tr><th> Bytes </th><td> 1.30 TB </td> <td> 129.60 MB </td></tr>\n",
       "    <tr><th> Shape </th><td> (1000, 50, 1800, 3600) </td> <td> (100, 10, 90, 360) </td></tr>\n",
       "    <tr><th> Count </th><td> 10001 Tasks </td><td> 10000 Chunks </td></tr>\n",
       "    <tr><th> Type </th><td> float32 </td><td> numpy.ndarray </td></tr>\n",
       "  </tbody>\n",
       "</table>\n",
       "</td>\n",
       "<td>\n",
       "<svg width=\"411\" height=\"125\" style=\"stroke:rgb(0,0,0);stroke-width:1\" >\n",
       "\n",
       "  <!-- Horizontal lines -->\n",
       "  <line x1=\"0\" y1=\"0\" x2=\"43\" y2=\"0\" style=\"stroke-width:2\" />\n",
       "  <line x1=\"0\" y1=\"25\" x2=\"43\" y2=\"25\" style=\"stroke-width:2\" />\n",
       "\n",
       "  <!-- Vertical lines -->\n",
       "  <line x1=\"0\" y1=\"0\" x2=\"0\" y2=\"25\" style=\"stroke-width:2\" />\n",
       "  <line x1=\"4\" y1=\"0\" x2=\"4\" y2=\"25\" />\n",
       "  <line x1=\"8\" y1=\"0\" x2=\"8\" y2=\"25\" />\n",
       "  <line x1=\"12\" y1=\"0\" x2=\"12\" y2=\"25\" />\n",
       "  <line x1=\"17\" y1=\"0\" x2=\"17\" y2=\"25\" />\n",
       "  <line x1=\"21\" y1=\"0\" x2=\"21\" y2=\"25\" />\n",
       "  <line x1=\"25\" y1=\"0\" x2=\"25\" y2=\"25\" />\n",
       "  <line x1=\"30\" y1=\"0\" x2=\"30\" y2=\"25\" />\n",
       "  <line x1=\"34\" y1=\"0\" x2=\"34\" y2=\"25\" />\n",
       "  <line x1=\"38\" y1=\"0\" x2=\"38\" y2=\"25\" />\n",
       "  <line x1=\"43\" y1=\"0\" x2=\"43\" y2=\"25\" style=\"stroke-width:2\" />\n",
       "\n",
       "  <!-- Colored Rectangle -->\n",
       "  <polygon points=\"0.000000,0.000000 43.280851,0.000000 43.280851,25.412617 0.000000,25.412617\" style=\"fill:#ECB172A0;stroke-width:0\"/>\n",
       "\n",
       "  <!-- Text -->\n",
       "  <text x=\"21.640426\" y=\"45.412617\" font-size=\"1.0rem\" font-weight=\"100\" text-anchor=\"middle\" >1000</text>\n",
       "  <text x=\"63.280851\" y=\"12.706308\" font-size=\"1.0rem\" font-weight=\"100\" text-anchor=\"middle\" transform=\"rotate(0,63.280851,12.706308)\">1</text>\n",
       "\n",
       "\n",
       "  <!-- Horizontal lines -->\n",
       "  <line x1=\"113\" y1=\"0\" x2=\"128\" y2=\"15\" style=\"stroke-width:2\" />\n",
       "  <line x1=\"113\" y1=\"3\" x2=\"128\" y2=\"18\" />\n",
       "  <line x1=\"113\" y1=\"6\" x2=\"128\" y2=\"21\" />\n",
       "  <line x1=\"113\" y1=\"9\" x2=\"128\" y2=\"24\" />\n",
       "  <line x1=\"113\" y1=\"12\" x2=\"128\" y2=\"27\" />\n",
       "  <line x1=\"113\" y1=\"15\" x2=\"128\" y2=\"30\" />\n",
       "  <line x1=\"113\" y1=\"18\" x2=\"128\" y2=\"33\" />\n",
       "  <line x1=\"113\" y1=\"21\" x2=\"128\" y2=\"36\" />\n",
       "  <line x1=\"113\" y1=\"24\" x2=\"128\" y2=\"39\" />\n",
       "  <line x1=\"113\" y1=\"27\" x2=\"128\" y2=\"42\" />\n",
       "  <line x1=\"113\" y1=\"30\" x2=\"128\" y2=\"45\" />\n",
       "  <line x1=\"113\" y1=\"33\" x2=\"128\" y2=\"48\" />\n",
       "  <line x1=\"113\" y1=\"36\" x2=\"128\" y2=\"51\" />\n",
       "  <line x1=\"113\" y1=\"39\" x2=\"128\" y2=\"54\" />\n",
       "  <line x1=\"113\" y1=\"42\" x2=\"128\" y2=\"57\" />\n",
       "  <line x1=\"113\" y1=\"45\" x2=\"128\" y2=\"60\" />\n",
       "  <line x1=\"113\" y1=\"48\" x2=\"128\" y2=\"63\" />\n",
       "  <line x1=\"113\" y1=\"51\" x2=\"128\" y2=\"66\" />\n",
       "  <line x1=\"113\" y1=\"54\" x2=\"128\" y2=\"69\" />\n",
       "  <line x1=\"113\" y1=\"57\" x2=\"128\" y2=\"72\" />\n",
       "  <line x1=\"113\" y1=\"60\" x2=\"128\" y2=\"75\" style=\"stroke-width:2\" />\n",
       "\n",
       "  <!-- Vertical lines -->\n",
       "  <line x1=\"113\" y1=\"0\" x2=\"113\" y2=\"60\" style=\"stroke-width:2\" />\n",
       "  <line x1=\"116\" y1=\"3\" x2=\"116\" y2=\"63\" />\n",
       "  <line x1=\"119\" y1=\"6\" x2=\"119\" y2=\"66\" />\n",
       "  <line x1=\"122\" y1=\"9\" x2=\"122\" y2=\"69\" />\n",
       "  <line x1=\"125\" y1=\"12\" x2=\"125\" y2=\"72\" />\n",
       "  <line x1=\"128\" y1=\"15\" x2=\"128\" y2=\"75\" style=\"stroke-width:2\" />\n",
       "\n",
       "  <!-- Colored Rectangle -->\n",
       "  <polygon points=\"113.000000,0.000000 128.914139,15.914139 128.914139,75.914139 113.000000,60.000000\" style=\"fill:#ECB172A0;stroke-width:0\"/>\n",
       "\n",
       "  <!-- Horizontal lines -->\n",
       "  <line x1=\"113\" y1=\"0\" x2=\"233\" y2=\"0\" style=\"stroke-width:2\" />\n",
       "  <line x1=\"116\" y1=\"3\" x2=\"236\" y2=\"3\" />\n",
       "  <line x1=\"119\" y1=\"6\" x2=\"239\" y2=\"6\" />\n",
       "  <line x1=\"122\" y1=\"9\" x2=\"242\" y2=\"9\" />\n",
       "  <line x1=\"125\" y1=\"12\" x2=\"245\" y2=\"12\" />\n",
       "  <line x1=\"128\" y1=\"15\" x2=\"248\" y2=\"15\" style=\"stroke-width:2\" />\n",
       "\n",
       "  <!-- Vertical lines -->\n",
       "  <line x1=\"113\" y1=\"0\" x2=\"128\" y2=\"15\" style=\"stroke-width:2\" />\n",
       "  <line x1=\"125\" y1=\"0\" x2=\"140\" y2=\"15\" />\n",
       "  <line x1=\"137\" y1=\"0\" x2=\"152\" y2=\"15\" />\n",
       "  <line x1=\"149\" y1=\"0\" x2=\"164\" y2=\"15\" />\n",
       "  <line x1=\"161\" y1=\"0\" x2=\"176\" y2=\"15\" />\n",
       "  <line x1=\"173\" y1=\"0\" x2=\"188\" y2=\"15\" />\n",
       "  <line x1=\"185\" y1=\"0\" x2=\"200\" y2=\"15\" />\n",
       "  <line x1=\"197\" y1=\"0\" x2=\"212\" y2=\"15\" />\n",
       "  <line x1=\"209\" y1=\"0\" x2=\"224\" y2=\"15\" />\n",
       "  <line x1=\"221\" y1=\"0\" x2=\"236\" y2=\"15\" />\n",
       "  <line x1=\"233\" y1=\"0\" x2=\"248\" y2=\"15\" style=\"stroke-width:2\" />\n",
       "\n",
       "  <!-- Colored Rectangle -->\n",
       "  <polygon points=\"113.000000,0.000000 233.000000,0.000000 248.914139,15.914139 128.914139,15.914139\" style=\"fill:#ECB172A0;stroke-width:0\"/>\n",
       "\n",
       "  <!-- Horizontal lines -->\n",
       "  <line x1=\"128\" y1=\"15\" x2=\"248\" y2=\"15\" style=\"stroke-width:2\" />\n",
       "  <line x1=\"128\" y1=\"18\" x2=\"248\" y2=\"18\" />\n",
       "  <line x1=\"128\" y1=\"21\" x2=\"248\" y2=\"21\" />\n",
       "  <line x1=\"128\" y1=\"24\" x2=\"248\" y2=\"24\" />\n",
       "  <line x1=\"128\" y1=\"27\" x2=\"248\" y2=\"27\" />\n",
       "  <line x1=\"128\" y1=\"30\" x2=\"248\" y2=\"30\" />\n",
       "  <line x1=\"128\" y1=\"33\" x2=\"248\" y2=\"33\" />\n",
       "  <line x1=\"128\" y1=\"36\" x2=\"248\" y2=\"36\" />\n",
       "  <line x1=\"128\" y1=\"39\" x2=\"248\" y2=\"39\" />\n",
       "  <line x1=\"128\" y1=\"42\" x2=\"248\" y2=\"42\" />\n",
       "  <line x1=\"128\" y1=\"45\" x2=\"248\" y2=\"45\" />\n",
       "  <line x1=\"128\" y1=\"48\" x2=\"248\" y2=\"48\" />\n",
       "  <line x1=\"128\" y1=\"51\" x2=\"248\" y2=\"51\" />\n",
       "  <line x1=\"128\" y1=\"54\" x2=\"248\" y2=\"54\" />\n",
       "  <line x1=\"128\" y1=\"57\" x2=\"248\" y2=\"57\" />\n",
       "  <line x1=\"128\" y1=\"60\" x2=\"248\" y2=\"60\" />\n",
       "  <line x1=\"128\" y1=\"63\" x2=\"248\" y2=\"63\" />\n",
       "  <line x1=\"128\" y1=\"66\" x2=\"248\" y2=\"66\" />\n",
       "  <line x1=\"128\" y1=\"69\" x2=\"248\" y2=\"69\" />\n",
       "  <line x1=\"128\" y1=\"72\" x2=\"248\" y2=\"72\" />\n",
       "  <line x1=\"128\" y1=\"75\" x2=\"248\" y2=\"75\" style=\"stroke-width:2\" />\n",
       "\n",
       "  <!-- Vertical lines -->\n",
       "  <line x1=\"128\" y1=\"15\" x2=\"128\" y2=\"75\" style=\"stroke-width:2\" />\n",
       "  <line x1=\"140\" y1=\"15\" x2=\"140\" y2=\"75\" />\n",
       "  <line x1=\"152\" y1=\"15\" x2=\"152\" y2=\"75\" />\n",
       "  <line x1=\"164\" y1=\"15\" x2=\"164\" y2=\"75\" />\n",
       "  <line x1=\"176\" y1=\"15\" x2=\"176\" y2=\"75\" />\n",
       "  <line x1=\"188\" y1=\"15\" x2=\"188\" y2=\"75\" />\n",
       "  <line x1=\"200\" y1=\"15\" x2=\"200\" y2=\"75\" />\n",
       "  <line x1=\"212\" y1=\"15\" x2=\"212\" y2=\"75\" />\n",
       "  <line x1=\"224\" y1=\"15\" x2=\"224\" y2=\"75\" />\n",
       "  <line x1=\"236\" y1=\"15\" x2=\"236\" y2=\"75\" />\n",
       "  <line x1=\"248\" y1=\"15\" x2=\"248\" y2=\"75\" style=\"stroke-width:2\" />\n",
       "\n",
       "  <!-- Colored Rectangle -->\n",
       "  <polygon points=\"128.914139,15.914139 248.914139,15.914139 248.914139,75.914139 128.914139,75.914139\" style=\"fill:#ECB172A0;stroke-width:0\"/>\n",
       "\n",
       "  <!-- Text -->\n",
       "  <text x=\"188.914139\" y=\"95.914139\" font-size=\"1.0rem\" font-weight=\"100\" text-anchor=\"middle\" >3600</text>\n",
       "  <text x=\"268.914139\" y=\"45.914139\" font-size=\"1.0rem\" font-weight=\"100\" text-anchor=\"middle\" transform=\"rotate(-90,268.914139,45.914139)\">1800</text>\n",
       "  <text x=\"110.957069\" y=\"87.957069\" font-size=\"1.0rem\" font-weight=\"100\" text-anchor=\"middle\" transform=\"rotate(45,110.957069,87.957069)\">50</text>\n",
       "</svg>\n",
       "</td>\n",
       "</tr>\n",
       "</table>"
      ],
      "text/plain": [
       "dask.array<from-zarr, shape=(1000, 50, 1800, 3600), dtype=float32, chunksize=(100, 10, 90, 360), chunktype=numpy.ndarray>"
      ]
     },
     "execution_count": 5,
     "metadata": {},
     "output_type": "execute_result"
    }
   ],
   "source": [
    "a_target = dsa.from_zarr(a_temp, chunks=target_chunks)\n",
    "a_target"
   ]
  },
  {
   "cell_type": "code",
   "execution_count": 11,
   "metadata": {},
   "outputs": [],
   "source": [
    "import hypothesis.strategies as st"
   ]
  },
  {
   "cell_type": "code",
   "execution_count": 1,
   "metadata": {},
   "outputs": [],
   "source": [
    "import zarr\n",
    "import dask\n",
    "import dask.array as dsa\n"
   ]
  },
  {
   "cell_type": "code",
   "execution_count": 75,
   "metadata": {},
   "outputs": [
    {
     "data": {
      "image/png": "[encoded data removed]",
      "text/plain": [
       "<IPython.core.display.Image object>"
      ]
     },
     "execution_count": 75,
     "metadata": {},
     "output_type": "execute_result"
    }
   ],
   "source": [
    "import zarr\n",
    "import dask\n",
    "import dask.array as dsa\n",
    "\n",
    "store_source = {}\n",
    "shape = (8, 8)\n",
    "source_chunks = (1, 8)\n",
    "read_chunks = (2, 8)\n",
    "dtype = 'f4'\n",
    "\n",
    "a_source = zarr.ones(shape, chunks=source_chunks,\n",
    "                     dtype=dtype, store=store_source)\n",
    "a_source.attrs['foo'] = 'bar'\n",
    "d_source = dsa.from_zarr(a_source, chunks=read_chunks)\n",
    "\n",
    "target_store = {}\n",
    "a_target = zarr.empty(shape, chunks=source_chunks, dtype=dtype, store=target_store)\n",
    "a_target.attrs.update(a_source.attrs)\n",
    "store_future = dsa.store(d_source, a_target, lock=False, compute=False)\n",
    "\n",
    "\n",
    "dask.visualize(store_future)\n"
   ]
  },
  {
   "cell_type": "code",
   "execution_count": 77,
   "metadata": {},
   "outputs": [
    {
     "data": {
      "text/plain": [
       "[None, None, None, None]"
      ]
     },
     "execution_count": 77,
     "metadata": {},
     "output_type": "execute_result"
    }
   ],
   "source": [
    "from dask.optimization import fuse\n",
    "dsk_fused, deps = fuse(dask.utils.ensure_dict(store_future.dask))\n",
    "delayed_fused = Delayed(store_future._key, dsk_fused)\n",
    "delayed_fused.compute()"
   ]
  },
  {
   "cell_type": "code",
   "execution_count": 79,
   "metadata": {},
   "outputs": [
    {
     "data": {
      "image/png": "[encoded data removed]",
      "text/plain": [
       "<IPython.core.display.Image object>"
      ]
     },
     "execution_count": 79,
     "metadata": {},
     "output_type": "execute_result"
    }
   ],
   "source": [
    "delayed_fused.visualize()"
   ]
  },
  {
   "cell_type": "code",
   "execution_count": 78,
   "metadata": {},
   "outputs": [
    {
     "data": {
      "text/plain": [
       "array([[1., 1., 1., 1., 1., 1., 1., 1.],\n",
       "       [1., 1., 1., 1., 1., 1., 1., 1.],\n",
       "       [1., 1., 1., 1., 1., 1., 1., 1.],\n",
       "       [1., 1., 1., 1., 1., 1., 1., 1.],\n",
       "       [1., 1., 1., 1., 1., 1., 1., 1.],\n",
       "       [1., 1., 1., 1., 1., 1., 1., 1.],\n",
       "       [1., 1., 1., 1., 1., 1., 1., 1.],\n",
       "       [1., 1., 1., 1., 1., 1., 1., 1.]], dtype=float32)"
      ]
     },
     "execution_count": 78,
     "metadata": {},
     "output_type": "execute_result"
    }
   ],
   "source": [
    "a_target[:]"
   ]
  },
  {
   "cell_type": "code",
   "execution_count": 29,
   "metadata": {},
   "outputs": [
    {
     "data": {
      "text/plain": [
       "Delayed('store-0bb04ea0-98bc-11ea-a279-dca9046f1d7d')"
      ]
     },
     "execution_count": 29,
     "metadata": {},
     "output_type": "execute_result"
    }
   ],
   "source": [
    "store_source = {}\n",
    "\n",
    "shape = (8, 8)\n",
    "source_chunks = (1, 8)\n",
    "read_chunks = (2, 8)\n",
    "dtype = 'f4'\n",
    "\n",
    "a_source = zarr.ones(shape, chunks=source_chunks,\n",
    "                     dtype=dtype, store=store_source)\n",
    "a_source.attrs['foo'] = 'bar'\n",
    "d_source = dsa.from_zarr(a_source, chunks=read_chunks)\n",
    "\n",
    "target_store = {}\n",
    "target_chunks = (2, 1)\n",
    "\n",
    "a_target = zarr.empty(shape, chunks=target_chunks, dtype=dtype, store=target_store)\n",
    "a_target.attrs.update(a_source.attrs)\n",
    "store_future = dsa.store(d_source, a_target, lock=False, compute=False)\n",
    "\n",
    "\n",
    "dask.visualize(store_future)\n"
   ]
  },
  {
   "cell_type": "code",
   "execution_count": 31,
   "metadata": {},
   "outputs": [
    {
     "data": {
      "image/png": "[encoded data removed]",
      "text/plain": [
       "<IPython.core.display.Image object>"
      ]
     },
     "execution_count": 31,
     "metadata": {},
     "output_type": "execute_result"
    }
   ],
   "source": [
    "dask.visualize(store_future)"
   ]
  },
  {
   "cell_type": "code",
   "execution_count": 48,
   "metadata": {},
   "outputs": [
    {
     "ename": "AttributeError",
     "evalue": "'HighLevelGraph' object has no attribute 'copy'",
     "output_type": "error",
     "traceback": [
      "\u001b[0;31m---------------------------------------------------------------------------\u001b[0m",
      "\u001b[0;31mAttributeError\u001b[0m                            Traceback (most recent call last)",
      "\u001b[0;32m<ipython-input-48-bcf72b74bbd4>\u001b[0m in \u001b[0;36m<module>\u001b[0;34m\u001b[0m\n\u001b[0;32m----> 1\u001b[0;31m \u001b[0mstore_future_optimized\u001b[0m \u001b[0;34m=\u001b[0m \u001b[0mdask\u001b[0m\u001b[0;34m.\u001b[0m\u001b[0moptimize\u001b[0m\u001b[0;34m(\u001b[0m\u001b[0mstore_future\u001b[0m\u001b[0;34m,\u001b[0m \u001b[0moptimizations\u001b[0m\u001b[0;34m=\u001b[0m\u001b[0;34m[\u001b[0m\u001b[0mfuse\u001b[0m\u001b[0;34m]\u001b[0m\u001b[0;34m,\u001b[0m \u001b[0moptimize_subgraphs\u001b[0m\u001b[0;34m=\u001b[0m\u001b[0;32mTrue\u001b[0m\u001b[0;34m)\u001b[0m\u001b[0;34m[\u001b[0m\u001b[0;36m0\u001b[0m\u001b[0;34m]\u001b[0m\u001b[0;34m\u001b[0m\u001b[0;34m\u001b[0m\u001b[0m\n\u001b[0m\u001b[1;32m      2\u001b[0m \u001b[0mstore_future_optimized\u001b[0m\u001b[0;34m.\u001b[0m\u001b[0mvisualize\u001b[0m\u001b[0;34m(\u001b[0m\u001b[0;34m)\u001b[0m\u001b[0;34m\u001b[0m\u001b[0;34m\u001b[0m\u001b[0m\n",
      "\u001b[0;32m~/opt/miniconda3/envs/pangeo-py38/lib/python3.8/site-packages/dask/base.py\u001b[0m in \u001b[0;36moptimize\u001b[0;34m(*args, **kwargs)\u001b[0m\n\u001b[1;32m    366\u001b[0m         \u001b[0;32mreturn\u001b[0m \u001b[0margs\u001b[0m\u001b[0;34m\u001b[0m\u001b[0;34m\u001b[0m\u001b[0m\n\u001b[1;32m    367\u001b[0m \u001b[0;34m\u001b[0m\u001b[0m\n\u001b[0;32m--> 368\u001b[0;31m     \u001b[0mdsk\u001b[0m \u001b[0;34m=\u001b[0m \u001b[0mcollections_to_dsk\u001b[0m\u001b[0;34m(\u001b[0m\u001b[0mcollections\u001b[0m\u001b[0;34m,\u001b[0m \u001b[0;34m**\u001b[0m\u001b[0mkwargs\u001b[0m\u001b[0;34m)\u001b[0m\u001b[0;34m\u001b[0m\u001b[0;34m\u001b[0m\u001b[0m\n\u001b[0m\u001b[1;32m    369\u001b[0m     postpersists = [\n\u001b[1;32m    370\u001b[0m         \u001b[0ma\u001b[0m\u001b[0;34m.\u001b[0m\u001b[0m__dask_postpersist__\u001b[0m\u001b[0;34m(\u001b[0m\u001b[0;34m)\u001b[0m \u001b[0;32mif\u001b[0m \u001b[0mis_dask_collection\u001b[0m\u001b[0;34m(\u001b[0m\u001b[0ma\u001b[0m\u001b[0;34m)\u001b[0m \u001b[0;32melse\u001b[0m \u001b[0;34m(\u001b[0m\u001b[0;32mNone\u001b[0m\u001b[0;34m,\u001b[0m \u001b[0ma\u001b[0m\u001b[0;34m)\u001b[0m \u001b[0;32mfor\u001b[0m \u001b[0ma\u001b[0m \u001b[0;32min\u001b[0m \u001b[0margs\u001b[0m\u001b[0;34m\u001b[0m\u001b[0;34m\u001b[0m\u001b[0m\n",
      "\u001b[0;32m~/opt/miniconda3/envs/pangeo-py38/lib/python3.8/site-packages/dask/base.py\u001b[0m in \u001b[0;36mcollections_to_dsk\u001b[0;34m(collections, optimize_graph, **kwargs)\u001b[0m\n\u001b[1;32m    212\u001b[0m \u001b[0;34m\u001b[0m\u001b[0m\n\u001b[1;32m    213\u001b[0m         \u001b[0;32mfor\u001b[0m \u001b[0mopt\u001b[0m \u001b[0;32min\u001b[0m \u001b[0moptimizations\u001b[0m\u001b[0;34m:\u001b[0m\u001b[0;34m\u001b[0m\u001b[0;34m\u001b[0m\u001b[0m\n\u001b[0;32m--> 214\u001b[0;31m             \u001b[0mgroups\u001b[0m \u001b[0;34m=\u001b[0m \u001b[0;34m{\u001b[0m\u001b[0mk\u001b[0m\u001b[0;34m:\u001b[0m \u001b[0;34m(\u001b[0m\u001b[0mopt\u001b[0m\u001b[0;34m(\u001b[0m\u001b[0mdsk\u001b[0m\u001b[0;34m,\u001b[0m \u001b[0mkeys\u001b[0m\u001b[0;34m)\u001b[0m\u001b[0;34m,\u001b[0m \u001b[0mkeys\u001b[0m\u001b[0;34m)\u001b[0m \u001b[0;32mfor\u001b[0m \u001b[0mk\u001b[0m\u001b[0;34m,\u001b[0m \u001b[0;34m(\u001b[0m\u001b[0mdsk\u001b[0m\u001b[0;34m,\u001b[0m \u001b[0mkeys\u001b[0m\u001b[0;34m)\u001b[0m \u001b[0;32min\u001b[0m \u001b[0mgroups\u001b[0m\u001b[0;34m.\u001b[0m\u001b[0mitems\u001b[0m\u001b[0;34m(\u001b[0m\u001b[0;34m)\u001b[0m\u001b[0;34m}\u001b[0m\u001b[0;34m\u001b[0m\u001b[0;34m\u001b[0m\u001b[0m\n\u001b[0m\u001b[1;32m    215\u001b[0m \u001b[0;34m\u001b[0m\u001b[0m\n\u001b[1;32m    216\u001b[0m         dsk = merge(\n",
      "\u001b[0;32m~/opt/miniconda3/envs/pangeo-py38/lib/python3.8/site-packages/dask/base.py\u001b[0m in \u001b[0;36m<dictcomp>\u001b[0;34m(.0)\u001b[0m\n\u001b[1;32m    212\u001b[0m \u001b[0;34m\u001b[0m\u001b[0m\n\u001b[1;32m    213\u001b[0m         \u001b[0;32mfor\u001b[0m \u001b[0mopt\u001b[0m \u001b[0;32min\u001b[0m \u001b[0moptimizations\u001b[0m\u001b[0;34m:\u001b[0m\u001b[0;34m\u001b[0m\u001b[0;34m\u001b[0m\u001b[0m\n\u001b[0;32m--> 214\u001b[0;31m             \u001b[0mgroups\u001b[0m \u001b[0;34m=\u001b[0m \u001b[0;34m{\u001b[0m\u001b[0mk\u001b[0m\u001b[0;34m:\u001b[0m \u001b[0;34m(\u001b[0m\u001b[0mopt\u001b[0m\u001b[0;34m(\u001b[0m\u001b[0mdsk\u001b[0m\u001b[0;34m,\u001b[0m \u001b[0mkeys\u001b[0m\u001b[0;34m)\u001b[0m\u001b[0;34m,\u001b[0m \u001b[0mkeys\u001b[0m\u001b[0;34m)\u001b[0m \u001b[0;32mfor\u001b[0m \u001b[0mk\u001b[0m\u001b[0;34m,\u001b[0m \u001b[0;34m(\u001b[0m\u001b[0mdsk\u001b[0m\u001b[0;34m,\u001b[0m \u001b[0mkeys\u001b[0m\u001b[0;34m)\u001b[0m \u001b[0;32min\u001b[0m \u001b[0mgroups\u001b[0m\u001b[0;34m.\u001b[0m\u001b[0mitems\u001b[0m\u001b[0;34m(\u001b[0m\u001b[0;34m)\u001b[0m\u001b[0;34m}\u001b[0m\u001b[0;34m\u001b[0m\u001b[0;34m\u001b[0m\u001b[0m\n\u001b[0m\u001b[1;32m    215\u001b[0m \u001b[0;34m\u001b[0m\u001b[0m\n\u001b[1;32m    216\u001b[0m         dsk = merge(\n",
      "\u001b[0;32m~/opt/miniconda3/envs/pangeo-py38/lib/python3.8/site-packages/dask/optimization.py\u001b[0m in \u001b[0;36mfuse\u001b[0;34m(dsk, keys, dependencies, ave_width, max_width, max_height, max_depth_new_edges, rename_keys, fuse_subgraphs)\u001b[0m\n\u001b[1;32m    530\u001b[0m         \u001b[0;32mreturn\u001b[0m \u001b[0mdsk\u001b[0m\u001b[0;34m,\u001b[0m \u001b[0mdeps\u001b[0m\u001b[0;34m\u001b[0m\u001b[0;34m\u001b[0m\u001b[0m\n\u001b[1;32m    531\u001b[0m \u001b[0;34m\u001b[0m\u001b[0m\n\u001b[0;32m--> 532\u001b[0;31m     \u001b[0mrv\u001b[0m \u001b[0;34m=\u001b[0m \u001b[0mdsk\u001b[0m\u001b[0;34m.\u001b[0m\u001b[0mcopy\u001b[0m\u001b[0;34m(\u001b[0m\u001b[0;34m)\u001b[0m\u001b[0;34m\u001b[0m\u001b[0;34m\u001b[0m\u001b[0m\n\u001b[0m\u001b[1;32m    533\u001b[0m     \u001b[0mfused_trees\u001b[0m \u001b[0;34m=\u001b[0m \u001b[0;34m{\u001b[0m\u001b[0;34m}\u001b[0m\u001b[0;34m\u001b[0m\u001b[0;34m\u001b[0m\u001b[0m\n\u001b[1;32m    534\u001b[0m     \u001b[0;31m# These are the stacks we use to store data as we traverse the graph\u001b[0m\u001b[0;34m\u001b[0m\u001b[0;34m\u001b[0m\u001b[0;34m\u001b[0m\u001b[0m\n",
      "\u001b[0;31mAttributeError\u001b[0m: 'HighLevelGraph' object has no attribute 'copy'"
     ]
    }
   ],
   "source": [
    "store_future_optimized = dask.optimize(store_future, optimizations=[fuse])[0]\n",
    "store_future_optimized.visualize()"
   ]
  },
  {
   "cell_type": "code",
   "execution_count": 70,
   "metadata": {},
   "outputs": [
    {
     "data": {
      "image/png": "[encoded data removed]",
      "text/plain": [
       "<IPython.core.display.Image object>"
      ]
     },
     "execution_count": 70,
     "metadata": {},
     "output_type": "execute_result"
    }
   ],
   "source": [
    "from dask.optimization import fuse\n",
    "\n",
    "dsk = store_future.dask.dicts\n",
    "dependencies = store_future.dask.dependencies\n",
    "dsk_fused = fuse(store_future.dask.dicts)\n",
    "dask.visualize(dsk_fused)"
   ]
  },
  {
   "cell_type": "code",
   "execution_count": 71,
   "metadata": {},
   "outputs": [
    {
     "data": {
      "image/png": "[encoded data removed]",
      "text/plain": [
       "<IPython.core.display.Image object>"
      ]
     },
     "execution_count": 71,
     "metadata": {},
     "output_type": "execute_result"
    }
   ],
   "source": [
    "dsk_fused = fuse(dask.utils.ensure_dict(store_future.dask))\n",
    "dask.visualize(dsk_fused)"
   ]
  },
  {
   "cell_type": "code",
   "execution_count": 74,
   "metadata": {},
   "outputs": [
    {
     "ename": "ValueError",
     "evalue": "dictionary update sequence element #0 has length 10; 2 is required",
     "output_type": "error",
     "traceback": [
      "\u001b[0;31m---------------------------------------------------------------------------\u001b[0m",
      "\u001b[0;31mValueError\u001b[0m                                Traceback (most recent call last)",
      "\u001b[0;32m<ipython-input-74-07ddfa95cb06>\u001b[0m in \u001b[0;36m<module>\u001b[0;34m\u001b[0m\n\u001b[1;32m      1\u001b[0m \u001b[0;32mfrom\u001b[0m \u001b[0mdask\u001b[0m\u001b[0;34m.\u001b[0m\u001b[0mdelayed\u001b[0m \u001b[0;32mimport\u001b[0m \u001b[0mDelayed\u001b[0m\u001b[0;34m\u001b[0m\u001b[0;34m\u001b[0m\u001b[0m\n\u001b[1;32m      2\u001b[0m \u001b[0mdelayed_fused\u001b[0m \u001b[0;34m=\u001b[0m \u001b[0mDelayed\u001b[0m\u001b[0;34m(\u001b[0m\u001b[0;34m\"read-and-store\"\u001b[0m\u001b[0;34m,\u001b[0m \u001b[0mdsk_fused\u001b[0m\u001b[0;34m)\u001b[0m\u001b[0;34m\u001b[0m\u001b[0;34m\u001b[0m\u001b[0m\n\u001b[0;32m----> 3\u001b[0;31m \u001b[0mdelayed_fused\u001b[0m\u001b[0;34m.\u001b[0m\u001b[0mcompute\u001b[0m\u001b[0;34m(\u001b[0m\u001b[0;34m)\u001b[0m\u001b[0;34m\u001b[0m\u001b[0;34m\u001b[0m\u001b[0m\n\u001b[0m",
      "\u001b[0;32m~/opt/miniconda3/envs/pangeo-py38/lib/python3.8/site-packages/dask/base.py\u001b[0m in \u001b[0;36mcompute\u001b[0;34m(self, **kwargs)\u001b[0m\n\u001b[1;32m    163\u001b[0m         \u001b[0mdask\u001b[0m\u001b[0;34m.\u001b[0m\u001b[0mbase\u001b[0m\u001b[0;34m.\u001b[0m\u001b[0mcompute\u001b[0m\u001b[0;34m\u001b[0m\u001b[0;34m\u001b[0m\u001b[0m\n\u001b[1;32m    164\u001b[0m         \"\"\"\n\u001b[0;32m--> 165\u001b[0;31m         \u001b[0;34m(\u001b[0m\u001b[0mresult\u001b[0m\u001b[0;34m,\u001b[0m\u001b[0;34m)\u001b[0m \u001b[0;34m=\u001b[0m \u001b[0mcompute\u001b[0m\u001b[0;34m(\u001b[0m\u001b[0mself\u001b[0m\u001b[0;34m,\u001b[0m \u001b[0mtraverse\u001b[0m\u001b[0;34m=\u001b[0m\u001b[0;32mFalse\u001b[0m\u001b[0;34m,\u001b[0m \u001b[0;34m**\u001b[0m\u001b[0mkwargs\u001b[0m\u001b[0;34m)\u001b[0m\u001b[0;34m\u001b[0m\u001b[0;34m\u001b[0m\u001b[0m\n\u001b[0m\u001b[1;32m    166\u001b[0m         \u001b[0;32mreturn\u001b[0m \u001b[0mresult\u001b[0m\u001b[0;34m\u001b[0m\u001b[0;34m\u001b[0m\u001b[0m\n\u001b[1;32m    167\u001b[0m \u001b[0;34m\u001b[0m\u001b[0m\n",
      "\u001b[0;32m~/opt/miniconda3/envs/pangeo-py38/lib/python3.8/site-packages/dask/base.py\u001b[0m in \u001b[0;36mcompute\u001b[0;34m(*args, **kwargs)\u001b[0m\n\u001b[1;32m    431\u001b[0m     )\n\u001b[1;32m    432\u001b[0m \u001b[0;34m\u001b[0m\u001b[0m\n\u001b[0;32m--> 433\u001b[0;31m     \u001b[0mdsk\u001b[0m \u001b[0;34m=\u001b[0m \u001b[0mcollections_to_dsk\u001b[0m\u001b[0;34m(\u001b[0m\u001b[0mcollections\u001b[0m\u001b[0;34m,\u001b[0m \u001b[0moptimize_graph\u001b[0m\u001b[0;34m,\u001b[0m \u001b[0;34m**\u001b[0m\u001b[0mkwargs\u001b[0m\u001b[0;34m)\u001b[0m\u001b[0;34m\u001b[0m\u001b[0;34m\u001b[0m\u001b[0m\n\u001b[0m\u001b[1;32m    434\u001b[0m     \u001b[0mkeys\u001b[0m \u001b[0;34m=\u001b[0m \u001b[0;34m[\u001b[0m\u001b[0mx\u001b[0m\u001b[0;34m.\u001b[0m\u001b[0m__dask_keys__\u001b[0m\u001b[0;34m(\u001b[0m\u001b[0;34m)\u001b[0m \u001b[0;32mfor\u001b[0m \u001b[0mx\u001b[0m \u001b[0;32min\u001b[0m \u001b[0mcollections\u001b[0m\u001b[0;34m]\u001b[0m\u001b[0;34m\u001b[0m\u001b[0;34m\u001b[0m\u001b[0m\n\u001b[1;32m    435\u001b[0m     \u001b[0mpostcomputes\u001b[0m \u001b[0;34m=\u001b[0m \u001b[0;34m[\u001b[0m\u001b[0mx\u001b[0m\u001b[0;34m.\u001b[0m\u001b[0m__dask_postcompute__\u001b[0m\u001b[0;34m(\u001b[0m\u001b[0;34m)\u001b[0m \u001b[0;32mfor\u001b[0m \u001b[0mx\u001b[0m \u001b[0;32min\u001b[0m \u001b[0mcollections\u001b[0m\u001b[0;34m]\u001b[0m\u001b[0;34m\u001b[0m\u001b[0;34m\u001b[0m\u001b[0m\n",
      "\u001b[0;32m~/opt/miniconda3/envs/pangeo-py38/lib/python3.8/site-packages/dask/base.py\u001b[0m in \u001b[0;36mcollections_to_dsk\u001b[0;34m(collections, optimize_graph, **kwargs)\u001b[0m\n\u001b[1;32m    209\u001b[0m     \u001b[0;32mif\u001b[0m \u001b[0moptimize_graph\u001b[0m\u001b[0;34m:\u001b[0m\u001b[0;34m\u001b[0m\u001b[0;34m\u001b[0m\u001b[0m\n\u001b[1;32m    210\u001b[0m         \u001b[0mgroups\u001b[0m \u001b[0;34m=\u001b[0m \u001b[0mgroupby\u001b[0m\u001b[0;34m(\u001b[0m\u001b[0moptimization_function\u001b[0m\u001b[0;34m,\u001b[0m \u001b[0mcollections\u001b[0m\u001b[0;34m)\u001b[0m\u001b[0;34m\u001b[0m\u001b[0;34m\u001b[0m\u001b[0m\n\u001b[0;32m--> 211\u001b[0;31m         \u001b[0mgroups\u001b[0m \u001b[0;34m=\u001b[0m \u001b[0;34m{\u001b[0m\u001b[0mopt\u001b[0m\u001b[0;34m:\u001b[0m \u001b[0m_extract_graph_and_keys\u001b[0m\u001b[0;34m(\u001b[0m\u001b[0mval\u001b[0m\u001b[0;34m)\u001b[0m \u001b[0;32mfor\u001b[0m \u001b[0mopt\u001b[0m\u001b[0;34m,\u001b[0m \u001b[0mval\u001b[0m \u001b[0;32min\u001b[0m \u001b[0mgroups\u001b[0m\u001b[0;34m.\u001b[0m\u001b[0mitems\u001b[0m\u001b[0;34m(\u001b[0m\u001b[0;34m)\u001b[0m\u001b[0;34m}\u001b[0m\u001b[0;34m\u001b[0m\u001b[0;34m\u001b[0m\u001b[0m\n\u001b[0m\u001b[1;32m    212\u001b[0m \u001b[0;34m\u001b[0m\u001b[0m\n\u001b[1;32m    213\u001b[0m         \u001b[0;32mfor\u001b[0m \u001b[0mopt\u001b[0m \u001b[0;32min\u001b[0m \u001b[0moptimizations\u001b[0m\u001b[0;34m:\u001b[0m\u001b[0;34m\u001b[0m\u001b[0;34m\u001b[0m\u001b[0m\n",
      "\u001b[0;32m~/opt/miniconda3/envs/pangeo-py38/lib/python3.8/site-packages/dask/base.py\u001b[0m in \u001b[0;36m<dictcomp>\u001b[0;34m(.0)\u001b[0m\n\u001b[1;32m    209\u001b[0m     \u001b[0;32mif\u001b[0m \u001b[0moptimize_graph\u001b[0m\u001b[0;34m:\u001b[0m\u001b[0;34m\u001b[0m\u001b[0;34m\u001b[0m\u001b[0m\n\u001b[1;32m    210\u001b[0m         \u001b[0mgroups\u001b[0m \u001b[0;34m=\u001b[0m \u001b[0mgroupby\u001b[0m\u001b[0;34m(\u001b[0m\u001b[0moptimization_function\u001b[0m\u001b[0;34m,\u001b[0m \u001b[0mcollections\u001b[0m\u001b[0;34m)\u001b[0m\u001b[0;34m\u001b[0m\u001b[0;34m\u001b[0m\u001b[0m\n\u001b[0;32m--> 211\u001b[0;31m         \u001b[0mgroups\u001b[0m \u001b[0;34m=\u001b[0m \u001b[0;34m{\u001b[0m\u001b[0mopt\u001b[0m\u001b[0;34m:\u001b[0m \u001b[0m_extract_graph_and_keys\u001b[0m\u001b[0;34m(\u001b[0m\u001b[0mval\u001b[0m\u001b[0;34m)\u001b[0m \u001b[0;32mfor\u001b[0m \u001b[0mopt\u001b[0m\u001b[0;34m,\u001b[0m \u001b[0mval\u001b[0m \u001b[0;32min\u001b[0m \u001b[0mgroups\u001b[0m\u001b[0;34m.\u001b[0m\u001b[0mitems\u001b[0m\u001b[0;34m(\u001b[0m\u001b[0;34m)\u001b[0m\u001b[0;34m}\u001b[0m\u001b[0;34m\u001b[0m\u001b[0;34m\u001b[0m\u001b[0m\n\u001b[0m\u001b[1;32m    212\u001b[0m \u001b[0;34m\u001b[0m\u001b[0m\n\u001b[1;32m    213\u001b[0m         \u001b[0;32mfor\u001b[0m \u001b[0mopt\u001b[0m \u001b[0;32min\u001b[0m \u001b[0moptimizations\u001b[0m\u001b[0;34m:\u001b[0m\u001b[0;34m\u001b[0m\u001b[0;34m\u001b[0m\u001b[0m\n",
      "\u001b[0;32m~/opt/miniconda3/envs/pangeo-py38/lib/python3.8/site-packages/dask/base.py\u001b[0m in \u001b[0;36m_extract_graph_and_keys\u001b[0;34m(vals)\u001b[0m\n\u001b[1;32m    237\u001b[0m         \u001b[0mgraph\u001b[0m \u001b[0;34m=\u001b[0m \u001b[0mHighLevelGraph\u001b[0m\u001b[0;34m.\u001b[0m\u001b[0mmerge\u001b[0m\u001b[0;34m(\u001b[0m\u001b[0;34m*\u001b[0m\u001b[0mgraphs\u001b[0m\u001b[0;34m)\u001b[0m\u001b[0;34m\u001b[0m\u001b[0;34m\u001b[0m\u001b[0m\n\u001b[1;32m    238\u001b[0m     \u001b[0;32melse\u001b[0m\u001b[0;34m:\u001b[0m\u001b[0;34m\u001b[0m\u001b[0;34m\u001b[0m\u001b[0m\n\u001b[0;32m--> 239\u001b[0;31m         \u001b[0mgraph\u001b[0m \u001b[0;34m=\u001b[0m \u001b[0mmerge\u001b[0m\u001b[0;34m(\u001b[0m\u001b[0;34m*\u001b[0m\u001b[0mmap\u001b[0m\u001b[0;34m(\u001b[0m\u001b[0mensure_dict\u001b[0m\u001b[0;34m,\u001b[0m \u001b[0mgraphs\u001b[0m\u001b[0;34m)\u001b[0m\u001b[0;34m)\u001b[0m\u001b[0;34m\u001b[0m\u001b[0;34m\u001b[0m\u001b[0m\n\u001b[0m\u001b[1;32m    240\u001b[0m \u001b[0;34m\u001b[0m\u001b[0m\n\u001b[1;32m    241\u001b[0m     \u001b[0;32mreturn\u001b[0m \u001b[0mgraph\u001b[0m\u001b[0;34m,\u001b[0m \u001b[0mkeys\u001b[0m\u001b[0;34m\u001b[0m\u001b[0;34m\u001b[0m\u001b[0m\n",
      "\u001b[0;32m~/opt/miniconda3/envs/pangeo-py38/lib/python3.8/site-packages/dask/utils.py\u001b[0m in \u001b[0;36mensure_dict\u001b[0;34m(d)\u001b[0m\n\u001b[1;32m   1021\u001b[0m                 \u001b[0mseen\u001b[0m\u001b[0;34m.\u001b[0m\u001b[0madd\u001b[0m\u001b[0;34m(\u001b[0m\u001b[0mdd_id\u001b[0m\u001b[0;34m)\u001b[0m\u001b[0;34m\u001b[0m\u001b[0;34m\u001b[0m\u001b[0m\n\u001b[1;32m   1022\u001b[0m         \u001b[0;32mreturn\u001b[0m \u001b[0mresult\u001b[0m\u001b[0;34m\u001b[0m\u001b[0;34m\u001b[0m\u001b[0m\n\u001b[0;32m-> 1023\u001b[0;31m     \u001b[0;32mreturn\u001b[0m \u001b[0mdict\u001b[0m\u001b[0;34m(\u001b[0m\u001b[0md\u001b[0m\u001b[0;34m)\u001b[0m\u001b[0;34m\u001b[0m\u001b[0;34m\u001b[0m\u001b[0m\n\u001b[0m\u001b[1;32m   1024\u001b[0m \u001b[0;34m\u001b[0m\u001b[0m\n\u001b[1;32m   1025\u001b[0m \u001b[0;34m\u001b[0m\u001b[0m\n",
      "\u001b[0;31mValueError\u001b[0m: dictionary update sequence element #0 has length 10; 2 is required"
     ]
    }
   ],
   "source": [
    "from dask.delayed import Delayed\n",
    "delayed_fused = Delayed(\"read-and-store\", dsk_fused)\n",
    "delayed_fused.compute()"
   ]
  },
  {
   "cell_type": "code",
   "execution_count": 73,
   "metadata": {},
   "outputs": [
    {
     "ename": "ValueError",
     "evalue": "dictionary update sequence element #0 has length 10; 2 is required",
     "output_type": "error",
     "traceback": [
      "\u001b[0;31m---------------------------------------------------------------------------\u001b[0m",
      "\u001b[0;31mValueError\u001b[0m                                Traceback (most recent call last)",
      "\u001b[0;32m<ipython-input-73-65436cae5790>\u001b[0m in \u001b[0;36m<module>\u001b[0;34m\u001b[0m\n\u001b[0;32m----> 1\u001b[0;31m \u001b[0mdask\u001b[0m\u001b[0;34m.\u001b[0m\u001b[0mcompute\u001b[0m\u001b[0;34m(\u001b[0m\u001b[0mdelayed_fused\u001b[0m\u001b[0;34m)\u001b[0m\u001b[0;34m\u001b[0m\u001b[0;34m\u001b[0m\u001b[0m\n\u001b[0m",
      "\u001b[0;32m~/opt/miniconda3/envs/pangeo-py38/lib/python3.8/site-packages/dask/base.py\u001b[0m in \u001b[0;36mcompute\u001b[0;34m(*args, **kwargs)\u001b[0m\n\u001b[1;32m    431\u001b[0m     )\n\u001b[1;32m    432\u001b[0m \u001b[0;34m\u001b[0m\u001b[0m\n\u001b[0;32m--> 433\u001b[0;31m     \u001b[0mdsk\u001b[0m \u001b[0;34m=\u001b[0m \u001b[0mcollections_to_dsk\u001b[0m\u001b[0;34m(\u001b[0m\u001b[0mcollections\u001b[0m\u001b[0;34m,\u001b[0m \u001b[0moptimize_graph\u001b[0m\u001b[0;34m,\u001b[0m \u001b[0;34m**\u001b[0m\u001b[0mkwargs\u001b[0m\u001b[0;34m)\u001b[0m\u001b[0;34m\u001b[0m\u001b[0;34m\u001b[0m\u001b[0m\n\u001b[0m\u001b[1;32m    434\u001b[0m     \u001b[0mkeys\u001b[0m \u001b[0;34m=\u001b[0m \u001b[0;34m[\u001b[0m\u001b[0mx\u001b[0m\u001b[0;34m.\u001b[0m\u001b[0m__dask_keys__\u001b[0m\u001b[0;34m(\u001b[0m\u001b[0;34m)\u001b[0m \u001b[0;32mfor\u001b[0m \u001b[0mx\u001b[0m \u001b[0;32min\u001b[0m \u001b[0mcollections\u001b[0m\u001b[0;34m]\u001b[0m\u001b[0;34m\u001b[0m\u001b[0;34m\u001b[0m\u001b[0m\n\u001b[1;32m    435\u001b[0m     \u001b[0mpostcomputes\u001b[0m \u001b[0;34m=\u001b[0m \u001b[0;34m[\u001b[0m\u001b[0mx\u001b[0m\u001b[0;34m.\u001b[0m\u001b[0m__dask_postcompute__\u001b[0m\u001b[0;34m(\u001b[0m\u001b[0;34m)\u001b[0m \u001b[0;32mfor\u001b[0m \u001b[0mx\u001b[0m \u001b[0;32min\u001b[0m \u001b[0mcollections\u001b[0m\u001b[0;34m]\u001b[0m\u001b[0;34m\u001b[0m\u001b[0;34m\u001b[0m\u001b[0m\n",
      "\u001b[0;32m~/opt/miniconda3/envs/pangeo-py38/lib/python3.8/site-packages/dask/base.py\u001b[0m in \u001b[0;36mcollections_to_dsk\u001b[0;34m(collections, optimize_graph, **kwargs)\u001b[0m\n\u001b[1;32m    209\u001b[0m     \u001b[0;32mif\u001b[0m \u001b[0moptimize_graph\u001b[0m\u001b[0;34m:\u001b[0m\u001b[0;34m\u001b[0m\u001b[0;34m\u001b[0m\u001b[0m\n\u001b[1;32m    210\u001b[0m         \u001b[0mgroups\u001b[0m \u001b[0;34m=\u001b[0m \u001b[0mgroupby\u001b[0m\u001b[0;34m(\u001b[0m\u001b[0moptimization_function\u001b[0m\u001b[0;34m,\u001b[0m \u001b[0mcollections\u001b[0m\u001b[0;34m)\u001b[0m\u001b[0;34m\u001b[0m\u001b[0;34m\u001b[0m\u001b[0m\n\u001b[0;32m--> 211\u001b[0;31m         \u001b[0mgroups\u001b[0m \u001b[0;34m=\u001b[0m \u001b[0;34m{\u001b[0m\u001b[0mopt\u001b[0m\u001b[0;34m:\u001b[0m \u001b[0m_extract_graph_and_keys\u001b[0m\u001b[0;34m(\u001b[0m\u001b[0mval\u001b[0m\u001b[0;34m)\u001b[0m \u001b[0;32mfor\u001b[0m \u001b[0mopt\u001b[0m\u001b[0;34m,\u001b[0m \u001b[0mval\u001b[0m \u001b[0;32min\u001b[0m \u001b[0mgroups\u001b[0m\u001b[0;34m.\u001b[0m\u001b[0mitems\u001b[0m\u001b[0;34m(\u001b[0m\u001b[0;34m)\u001b[0m\u001b[0;34m}\u001b[0m\u001b[0;34m\u001b[0m\u001b[0;34m\u001b[0m\u001b[0m\n\u001b[0m\u001b[1;32m    212\u001b[0m \u001b[0;34m\u001b[0m\u001b[0m\n\u001b[1;32m    213\u001b[0m         \u001b[0;32mfor\u001b[0m \u001b[0mopt\u001b[0m \u001b[0;32min\u001b[0m \u001b[0moptimizations\u001b[0m\u001b[0;34m:\u001b[0m\u001b[0;34m\u001b[0m\u001b[0;34m\u001b[0m\u001b[0m\n",
      "\u001b[0;32m~/opt/miniconda3/envs/pangeo-py38/lib/python3.8/site-packages/dask/base.py\u001b[0m in \u001b[0;36m<dictcomp>\u001b[0;34m(.0)\u001b[0m\n\u001b[1;32m    209\u001b[0m     \u001b[0;32mif\u001b[0m \u001b[0moptimize_graph\u001b[0m\u001b[0;34m:\u001b[0m\u001b[0;34m\u001b[0m\u001b[0;34m\u001b[0m\u001b[0m\n\u001b[1;32m    210\u001b[0m         \u001b[0mgroups\u001b[0m \u001b[0;34m=\u001b[0m \u001b[0mgroupby\u001b[0m\u001b[0;34m(\u001b[0m\u001b[0moptimization_function\u001b[0m\u001b[0;34m,\u001b[0m \u001b[0mcollections\u001b[0m\u001b[0;34m)\u001b[0m\u001b[0;34m\u001b[0m\u001b[0;34m\u001b[0m\u001b[0m\n\u001b[0;32m--> 211\u001b[0;31m         \u001b[0mgroups\u001b[0m \u001b[0;34m=\u001b[0m \u001b[0;34m{\u001b[0m\u001b[0mopt\u001b[0m\u001b[0;34m:\u001b[0m \u001b[0m_extract_graph_and_keys\u001b[0m\u001b[0;34m(\u001b[0m\u001b[0mval\u001b[0m\u001b[0;34m)\u001b[0m \u001b[0;32mfor\u001b[0m \u001b[0mopt\u001b[0m\u001b[0;34m,\u001b[0m \u001b[0mval\u001b[0m \u001b[0;32min\u001b[0m \u001b[0mgroups\u001b[0m\u001b[0;34m.\u001b[0m\u001b[0mitems\u001b[0m\u001b[0;34m(\u001b[0m\u001b[0;34m)\u001b[0m\u001b[0;34m}\u001b[0m\u001b[0;34m\u001b[0m\u001b[0;34m\u001b[0m\u001b[0m\n\u001b[0m\u001b[1;32m    212\u001b[0m \u001b[0;34m\u001b[0m\u001b[0m\n\u001b[1;32m    213\u001b[0m         \u001b[0;32mfor\u001b[0m \u001b[0mopt\u001b[0m \u001b[0;32min\u001b[0m \u001b[0moptimizations\u001b[0m\u001b[0;34m:\u001b[0m\u001b[0;34m\u001b[0m\u001b[0;34m\u001b[0m\u001b[0m\n",
      "\u001b[0;32m~/opt/miniconda3/envs/pangeo-py38/lib/python3.8/site-packages/dask/base.py\u001b[0m in \u001b[0;36m_extract_graph_and_keys\u001b[0;34m(vals)\u001b[0m\n\u001b[1;32m    237\u001b[0m         \u001b[0mgraph\u001b[0m \u001b[0;34m=\u001b[0m \u001b[0mHighLevelGraph\u001b[0m\u001b[0;34m.\u001b[0m\u001b[0mmerge\u001b[0m\u001b[0;34m(\u001b[0m\u001b[0;34m*\u001b[0m\u001b[0mgraphs\u001b[0m\u001b[0;34m)\u001b[0m\u001b[0;34m\u001b[0m\u001b[0;34m\u001b[0m\u001b[0m\n\u001b[1;32m    238\u001b[0m     \u001b[0;32melse\u001b[0m\u001b[0;34m:\u001b[0m\u001b[0;34m\u001b[0m\u001b[0;34m\u001b[0m\u001b[0m\n\u001b[0;32m--> 239\u001b[0;31m         \u001b[0mgraph\u001b[0m \u001b[0;34m=\u001b[0m \u001b[0mmerge\u001b[0m\u001b[0;34m(\u001b[0m\u001b[0;34m*\u001b[0m\u001b[0mmap\u001b[0m\u001b[0;34m(\u001b[0m\u001b[0mensure_dict\u001b[0m\u001b[0;34m,\u001b[0m \u001b[0mgraphs\u001b[0m\u001b[0;34m)\u001b[0m\u001b[0;34m)\u001b[0m\u001b[0;34m\u001b[0m\u001b[0;34m\u001b[0m\u001b[0m\n\u001b[0m\u001b[1;32m    240\u001b[0m \u001b[0;34m\u001b[0m\u001b[0m\n\u001b[1;32m    241\u001b[0m     \u001b[0;32mreturn\u001b[0m \u001b[0mgraph\u001b[0m\u001b[0;34m,\u001b[0m \u001b[0mkeys\u001b[0m\u001b[0;34m\u001b[0m\u001b[0;34m\u001b[0m\u001b[0m\n",
      "\u001b[0;32m~/opt/miniconda3/envs/pangeo-py38/lib/python3.8/site-packages/dask/utils.py\u001b[0m in \u001b[0;36mensure_dict\u001b[0;34m(d)\u001b[0m\n\u001b[1;32m   1021\u001b[0m                 \u001b[0mseen\u001b[0m\u001b[0;34m.\u001b[0m\u001b[0madd\u001b[0m\u001b[0;34m(\u001b[0m\u001b[0mdd_id\u001b[0m\u001b[0;34m)\u001b[0m\u001b[0;34m\u001b[0m\u001b[0;34m\u001b[0m\u001b[0m\n\u001b[1;32m   1022\u001b[0m         \u001b[0;32mreturn\u001b[0m \u001b[0mresult\u001b[0m\u001b[0;34m\u001b[0m\u001b[0;34m\u001b[0m\u001b[0m\n\u001b[0;32m-> 1023\u001b[0;31m     \u001b[0;32mreturn\u001b[0m \u001b[0mdict\u001b[0m\u001b[0;34m(\u001b[0m\u001b[0md\u001b[0m\u001b[0;34m)\u001b[0m\u001b[0;34m\u001b[0m\u001b[0;34m\u001b[0m\u001b[0m\n\u001b[0m\u001b[1;32m   1024\u001b[0m \u001b[0;34m\u001b[0m\u001b[0m\n\u001b[1;32m   1025\u001b[0m \u001b[0;34m\u001b[0m\u001b[0m\n",
      "\u001b[0;31mValueError\u001b[0m: dictionary update sequence element #0 has length 10; 2 is required"
     ]
    }
   ],
   "source": [
    "delayed_fused)"
   ]
  },
  {
   "cell_type": "code",
   "execution_count": 66,
   "metadata": {},
   "outputs": [
    {
     "data": {
      "text/plain": [
       "([None, None, None, None],)"
      ]
     },
     "execution_count": 66,
     "metadata": {},
     "output_type": "execute_result"
    }
   ],
   "source": [
    "dask.compute(store_future)"
   ]
  },
  {
   "cell_type": "code",
   "execution_count": 67,
   "metadata": {},
   "outputs": [
    {
     "data": {
      "text/plain": [
       "array([[1., 1., 1., 1., 1., 1., 1., 1.],\n",
       "       [1., 1., 1., 1., 1., 1., 1., 1.],\n",
       "       [1., 1., 1., 1., 1., 1., 1., 1.],\n",
       "       [1., 1., 1., 1., 1., 1., 1., 1.],\n",
       "       [1., 1., 1., 1., 1., 1., 1., 1.],\n",
       "       [1., 1., 1., 1., 1., 1., 1., 1.],\n",
       "       [1., 1., 1., 1., 1., 1., 1., 1.],\n",
       "       [1., 1., 1., 1., 1., 1., 1., 1.]], dtype=float32)"
      ]
     },
     "execution_count": 67,
     "metadata": {},
     "output_type": "execute_result"
    }
   ],
   "source": [
    "a_target[:]"
   ]
  },
  {
   "cell_type": "code",
   "execution_count": 14,
   "metadata": {},
   "outputs": [
    {
     "data": {
      "text/plain": [
       "{4604033152: set(), 4603945216: set(), 4603924288: set(), 4604099520: set()}"
      ]
     },
     "execution_count": 14,
     "metadata": {},
     "output_type": "execute_result"
    }
   ],
   "source": [
    "store_future.dask.dependencies"
   ]
  },
  {
   "cell_type": "code",
   "execution_count": 36,
   "metadata": {},
   "outputs": [
    {
     "data": {
      "text/plain": [
       "<zarr.attrs.Attributes at 0x116864640>"
      ]
     },
     "execution_count": 36,
     "metadata": {},
     "output_type": "execute_result"
    }
   ],
   "source": [
    "a_target.attrs"
   ]
  },
  {
   "cell_type": "code",
   "execution_count": 21,
   "metadata": {},
   "outputs": [
    {
     "data": {
      "text/plain": [
       "\u001b[0;31mSignature:\u001b[0m\n",
       "\u001b[0mdsa\u001b[0m\u001b[0;34m.\u001b[0m\u001b[0mstore\u001b[0m\u001b[0;34m(\u001b[0m\u001b[0;34m\u001b[0m\n",
       "\u001b[0;34m\u001b[0m    \u001b[0msources\u001b[0m\u001b[0;34m,\u001b[0m\u001b[0;34m\u001b[0m\n",
       "\u001b[0;34m\u001b[0m    \u001b[0mtargets\u001b[0m\u001b[0;34m,\u001b[0m\u001b[0;34m\u001b[0m\n",
       "\u001b[0;34m\u001b[0m    \u001b[0mlock\u001b[0m\u001b[0;34m=\u001b[0m\u001b[0;32mTrue\u001b[0m\u001b[0;34m,\u001b[0m\u001b[0;34m\u001b[0m\n",
       "\u001b[0;34m\u001b[0m    \u001b[0mregions\u001b[0m\u001b[0;34m=\u001b[0m\u001b[0;32mNone\u001b[0m\u001b[0;34m,\u001b[0m\u001b[0;34m\u001b[0m\n",
       "\u001b[0;34m\u001b[0m    \u001b[0mcompute\u001b[0m\u001b[0;34m=\u001b[0m\u001b[0;32mTrue\u001b[0m\u001b[0;34m,\u001b[0m\u001b[0;34m\u001b[0m\n",
       "\u001b[0;34m\u001b[0m    \u001b[0mreturn_stored\u001b[0m\u001b[0;34m=\u001b[0m\u001b[0;32mFalse\u001b[0m\u001b[0;34m,\u001b[0m\u001b[0;34m\u001b[0m\n",
       "\u001b[0;34m\u001b[0m    \u001b[0;34m**\u001b[0m\u001b[0mkwargs\u001b[0m\u001b[0;34m,\u001b[0m\u001b[0;34m\u001b[0m\n",
       "\u001b[0;34m\u001b[0m\u001b[0;34m)\u001b[0m\u001b[0;34m\u001b[0m\u001b[0;34m\u001b[0m\u001b[0m\n",
       "\u001b[0;31mDocstring:\u001b[0m\n",
       "Store dask arrays in array-like objects, overwrite data in target\n",
       "\n",
       "This stores dask arrays into object that supports numpy-style setitem\n",
       "indexing.  It stores values chunk by chunk so that it does not have to\n",
       "fill up memory.  For best performance you can align the block size of\n",
       "the storage target with the block size of your array.\n",
       "\n",
       "If your data fits in memory then you may prefer calling\n",
       "``np.array(myarray)`` instead.\n",
       "\n",
       "Parameters\n",
       "----------\n",
       "\n",
       "sources: Array or iterable of Arrays\n",
       "targets: array-like or Delayed or iterable of array-likes and/or Delayeds\n",
       "    These should support setitem syntax ``target[10:20] = ...``\n",
       "lock: boolean or threading.Lock, optional\n",
       "    Whether or not to lock the data stores while storing.\n",
       "    Pass True (lock each file individually), False (don't lock) or a\n",
       "    particular ``threading.Lock`` object to be shared among all writes.\n",
       "regions: tuple of slices or list of tuples of slices\n",
       "    Each ``region`` tuple in ``regions`` should be such that\n",
       "    ``target[region].shape = source.shape``\n",
       "    for the corresponding source and target in sources and targets,\n",
       "    respectively. If this is a tuple, the contents will be assumed to be\n",
       "    slices, so do not provide a tuple of tuples.\n",
       "compute: boolean, optional\n",
       "    If true compute immediately, return ``dask.delayed.Delayed`` otherwise\n",
       "return_stored: boolean, optional\n",
       "    Optionally return the stored result (default False).\n",
       "\n",
       "Examples\n",
       "--------\n",
       ">>> x = ...  # doctest: +SKIP\n",
       "\n",
       ">>> import h5py  # doctest: +SKIP\n",
       ">>> f = h5py.File('myfile.hdf5', mode='a')  # doctest: +SKIP\n",
       ">>> dset = f.create_dataset('/data', shape=x.shape,\n",
       "...                                  chunks=x.chunks,\n",
       "...                                  dtype='f8')  # doctest: +SKIP\n",
       "\n",
       ">>> store(x, dset)  # doctest: +SKIP\n",
       "\n",
       "Alternatively store many arrays at the same time\n",
       "\n",
       ">>> store([x, y, z], [dset1, dset2, dset3])  # doctest: +SKIP\n",
       "\u001b[0;31mFile:\u001b[0m      ~/opt/miniconda3/envs/pangeo-py38/lib/python3.8/site-packages/dask/array/core.py\n",
       "\u001b[0;31mType:\u001b[0m      function\n"
      ]
     },
     "metadata": {},
     "output_type": "display_data"
    }
   ],
   "source": [
    "dsa.store?"
   ]
  },
  {
   "cell_type": "code",
   "execution_count": null,
   "metadata": {},
   "outputs": [],
   "source": []
  }
 ],
 "metadata": {
  "kernelspec": {
   "display_name": "Python 3",
   "language": "python",
   "name": "python3"
  },
  "language_info": {
   "codemirror_mode": {
    "name": "ipython",
    "version": 3
   },
   "file_extension": ".py",
   "mimetype": "text/x-python",
   "name": "python",
   "nbconvert_exporter": "python",
   "pygments_lexer": "ipython3",
   "version": "3.8.1"
  }
 },
 "nbformat": 4,
 "nbformat_minor": 4
}
